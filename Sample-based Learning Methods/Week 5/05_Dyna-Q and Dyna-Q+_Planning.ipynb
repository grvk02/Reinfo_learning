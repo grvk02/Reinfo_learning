{
  "nbformat": 4,
  "nbformat_minor": 0,
  "metadata": {
    "coursera": {
      "course_slug": "sample-based-learning-methods",
      "graded_item_id": "trR7Z",
      "launcher_item_id": "edrCE"
    },
    "kernelspec": {
      "display_name": "Python 3",
      "language": "python",
      "name": "python3"
    },
    "language_info": {
      "codemirror_mode": {
        "name": "ipython",
        "version": 3
      },
      "file_extension": ".py",
      "mimetype": "text/x-python",
      "name": "python",
      "nbconvert_exporter": "python",
      "pygments_lexer": "ipython3",
      "version": "3.7.2"
    },
    "colab": {
      "name": "05_Dyna-Q and Dyna-Q+_Planning.ipynb",
      "provenance": [],
      "include_colab_link": true
    }
  },
  "cells": [
    {
      "cell_type": "markdown",
      "metadata": {
        "id": "view-in-github",
        "colab_type": "text"
      },
      "source": [
        "<a href=\"https://colab.research.google.com/github/grvk02/Reinfo_learning/blob/master/Sample-based%20Learning%20Methods/Week%205/05_Dyna-Q%20and%20Dyna-Q%2B_Planning.ipynb\" target=\"_parent\"><img src=\"https://colab.research.google.com/assets/colab-badge.svg\" alt=\"Open In Colab\"/></a>"
      ]
    },
    {
      "cell_type": "markdown",
      "metadata": {
        "deletable": false,
        "editable": false,
        "nbgrader": {
          "checksum": "346b99c4a9f878e9aec2a07d3ddc08d1",
          "grade": false,
          "grade_id": "cell-be955a21a9add6d6",
          "locked": true,
          "schema_version": 1,
          "solution": false
        },
        "id": "pYK3QsWIAMsd"
      },
      "source": [
        "# Assignment: Dyna-Q and Dyna-Q+"
      ]
    },
    {
      "cell_type": "markdown",
      "metadata": {
        "deletable": false,
        "editable": false,
        "nbgrader": {
          "checksum": "ee25bdba2a442f7c9bb323036ff7adff",
          "grade": false,
          "grade_id": "cell-6ab578539f713801",
          "locked": true,
          "schema_version": 1,
          "solution": false
        },
        "id": "rLhWiYjlAMsh"
      },
      "source": [
        "Welcome to this programming assignment! In this notebook, you will:\n",
        "1. implement the Dyna-Q and Dyna-Q+ algorithms. \n",
        "2. compare their performance on an environment which changes to become 'better' than it was before, that is, the task becomes easier. \n",
        "\n",
        "We will give you the environment and infrastructure to run the experiment and visualize the performance. The assignment will be graded automatically by comparing the behavior of your agent to our implementations of the algorithms. The random seed will be set explicitly to avoid different behaviors due to randomness. \n",
        "\n",
        "Please go through the cells in order. "
      ]
    },
    {
      "cell_type": "markdown",
      "metadata": {
        "deletable": false,
        "editable": false,
        "nbgrader": {
          "checksum": "93057554e87db5c7a4946ae3ba2d5951",
          "grade": false,
          "grade_id": "cell-9da2a3b80d5b1de4",
          "locked": true,
          "schema_version": 1,
          "solution": false
        },
        "id": "UqrvURoPAMsh"
      },
      "source": [
        "## The Shortcut Maze Environment\n",
        "\n",
        "In this maze environment, the goal is to reach the goal state (G) as fast as possible from the starting state (S). There are four actions – up, down, right, left – which take the agent deterministically from a state to the corresponding neighboring states, except when movement is blocked by a wall (denoted by grey) or the edge of the maze, in which case the agent remains where it is. The reward is +1 on reaching the goal state, 0 otherwise. On reaching the goal state G, the agent returns to the start state S to being a new episode. This is a discounted, episodic task with $\\gamma = 0.95$.\n",
        "\n",
        "<img src=\"https://github.com/adithyaprem/Reinforcement-Learning-Specialization/blob/master/Sample-based%20Learning%20Methods/Week%205/shortcut_env.png?raw=1\" alt=\"environment\" width=\"400\"/>\n",
        "\n",
        "Later in the assignment, we will use a variant of this maze in which a 'shortcut' opens up after a certain number of timesteps. We will test if the the Dyna-Q and Dyna-Q+ agents are able to find the newly-opened shorter route to the goal state."
      ]
    },
    {
      "cell_type": "markdown",
      "metadata": {
        "deletable": false,
        "editable": false,
        "nbgrader": {
          "checksum": "f3979f4d8454c9e24f16ed133d08f086",
          "grade": false,
          "grade_id": "cell-d789ad9af5d734f5",
          "locked": true,
          "schema_version": 1,
          "solution": false
        },
        "id": "zX5WhjCkAMsj"
      },
      "source": [
        "## Packages\n",
        "\n",
        "We import the following libraries that are required for this assignment. Primarily, we shall be using the following libraries:\n",
        "1. numpy: the fundamental package for scientific computing with Python.\n",
        "2. matplotlib: the library for plotting graphs in Python.\n",
        "3. RL-Glue: the library for reinforcement learning experiments.\n",
        "\n",
        "**Please do not import other libraries** — this will break the autograder."
      ]
    },
    {
      "cell_type": "code",
      "metadata": {
        "id": "XBKu2rsMArbD",
        "outputId": "e24ef9c0-c233-46b6-953d-f6328b8cdabb",
        "colab": {
          "base_uri": "https://localhost:8080/"
        }
      },
      "source": [
        "!pip install jdc"
      ],
      "execution_count": 2,
      "outputs": [
        {
          "output_type": "stream",
          "text": [
            "Collecting jdc\n",
            "  Downloading https://files.pythonhosted.org/packages/5a/cb/9afea749985eef20f3160e8826a531c7502e40c35a038dfe49b67726e9a0/jdc-0.0.9-py2.py3-none-any.whl\n",
            "Installing collected packages: jdc\n",
            "Successfully installed jdc-0.0.9\n"
          ],
          "name": "stdout"
        }
      ]
    },
    {
      "cell_type": "code",
      "metadata": {
        "deletable": false,
        "editable": false,
        "nbgrader": {
          "checksum": "f9e9ff5b73bce8269a5d08427e84f998",
          "grade": false,
          "grade_id": "cell-9b59a5e962944c1a",
          "locked": true,
          "schema_version": 1,
          "solution": false
        },
        "id": "hukAqxj-AMsk"
      },
      "source": [
        "%matplotlib inline\n",
        "import numpy as np\n",
        "import matplotlib.pyplot as plt\n",
        "import os, jdc, shutil\n",
        "from tqdm import tqdm\n",
        "import pickle\n",
        "from rl_glue import RLGlue\n",
        "from agent import BaseAgent\n",
        "from maze_env import ShortcutMazeEnvironment\n",
        "\n",
        "os.makedirs('results', exist_ok=True)"
      ],
      "execution_count": 48,
      "outputs": []
    },
    {
      "cell_type": "code",
      "metadata": {
        "deletable": false,
        "editable": false,
        "nbgrader": {
          "checksum": "2a42e5b7f720fd0165a2b12b4c99f164",
          "grade": false,
          "grade_id": "cell-70ba6356f71f04d6",
          "locked": true,
          "schema_version": 1,
          "solution": false
        },
        "id": "5CKE48ajAMsl"
      },
      "source": [
        "plt.rcParams.update({'font.size': 15})\n",
        "plt.rcParams.update({'figure.figsize': [8,5]})"
      ],
      "execution_count": 4,
      "outputs": []
    },
    {
      "cell_type": "markdown",
      "metadata": {
        "deletable": false,
        "editable": false,
        "nbgrader": {
          "checksum": "d9b325128e6aa23ac37b7af5193ab516",
          "grade": false,
          "grade_id": "cell-337c52496760f99a",
          "locked": true,
          "schema_version": 1,
          "solution": false
        },
        "id": "SgW_R8QvAMsm"
      },
      "source": [
        "## Section 1: Dyna-Q"
      ]
    },
    {
      "cell_type": "markdown",
      "metadata": {
        "deletable": false,
        "editable": false,
        "nbgrader": {
          "checksum": "663ef3e7cbb35c2f7bcc99e48697e20c",
          "grade": false,
          "grade_id": "cell-ae016536341366d9",
          "locked": true,
          "schema_version": 1,
          "solution": false
        },
        "id": "swS6H14JAMsm"
      },
      "source": [
        "Let's start with a quick recap of the tabular Dyna-Q algorithm.\n",
        "\n",
        "<div style=\"width:80%\"><img src=\"https://github.com/adithyaprem/Reinforcement-Learning-Specialization/blob/master/Sample-based%20Learning%20Methods/Week%205/images/DynaQ.png?raw=1\" alt=\"DynaQ_pseudocode\"></div>\n",
        "\n",
        "Dyna-Q involves four basic steps:\n",
        "1. Action selection: given an observation, select an action to be performed (here, using the $\\epsilon$-greedy method).\n",
        "2. Direct RL: using the observed next state and reward, update the action values (here, using one-step tabular Q-learning).\n",
        "3. Model learning: using the observed next state and reward, update the model (here, updating a table as the environment is assumed to be deterministic).\n",
        "4. Planning: update the action values by generating $n$ simulated experiences using certain starting states and actions (here, using the random-sample one-step tabular Q-planning method). This is also known as the 'Indirect RL' step. The process of choosing the state and action to simulate an experience with is known as 'search control'.\n",
        "\n",
        "Steps 1 and 2 are parts of the [tabular Q-learning algorithm](http://www.incompleteideas.net/book/RLbook2018.pdf#page=153) and are denoted by line numbers (a)–(d) in the pseudocode above. Step 3 is performed in line (e), and Step 4 in the block of lines (f).\n",
        "\n",
        "We highly recommend revising the Dyna videos in the course and the material in the RL textbook (in particular, [Section 8.2](http://www.incompleteideas.net/book/RLbook2018.pdf#page=183))."
      ]
    },
    {
      "cell_type": "markdown",
      "metadata": {
        "deletable": false,
        "editable": false,
        "nbgrader": {
          "checksum": "354d65ba93c059d3100345383340a535",
          "grade": false,
          "grade_id": "cell-31575fcfa515756a",
          "locked": true,
          "schema_version": 1,
          "solution": false
        },
        "id": "Qj8mx6xmAMsm"
      },
      "source": [
        "Alright, let's begin coding.\n",
        "\n",
        "As you already know by now, you will develop an agent which interacts with the given environment via RL-Glue. More specifically, you will implement the usual methods `agent_start`, `agent_step`, and `agent_end` in your `DynaQAgent` class, along with a couple of helper methods specific to Dyna-Q, namely `update_model` and `planning_step`. We will provide detailed comments in each method describing what your code should do. "
      ]
    },
    {
      "cell_type": "markdown",
      "metadata": {
        "deletable": false,
        "editable": false,
        "nbgrader": {
          "checksum": "3aae482d1f386d62c362697ec771bf43",
          "grade": false,
          "grade_id": "cell-85f53bb3ebb9f77d",
          "locked": true,
          "schema_version": 1,
          "solution": false
        },
        "id": "8bA7FYIwAMso"
      },
      "source": [
        "Let's break this down in pieces and do it one-by-one.\n",
        "\n",
        "First of all, check out the `agent_init` method below. As in earlier assignments, some of the attributes are initialized with the data passed inside `agent_info`. In particular, pay attention to the attributes which are new to `DynaQAgent`, since you shall be using them later. "
      ]
    },
    {
      "cell_type": "code",
      "metadata": {
        "deletable": false,
        "editable": false,
        "nbgrader": {
          "checksum": "cb3caf80070a7cce0f65a119522d2dbd",
          "grade": false,
          "grade_id": "cell-eda7a35e5ff3252f",
          "locked": true,
          "schema_version": 1,
          "solution": false
        },
        "id": "_RhW0sASAMsp"
      },
      "source": [
        "# Do not modify this cell!\n",
        "\n",
        "class DynaQAgent(BaseAgent):\n",
        "\n",
        "    def agent_init(self, agent_info):\n",
        "        \"\"\"Setup for the agent called when the experiment first starts.\n",
        "\n",
        "        Args:\n",
        "            agent_init_info (dict), the parameters used to initialize the agent. The dictionary contains:\n",
        "            {\n",
        "                num_states (int): The number of states,\n",
        "                num_actions (int): The number of actions,\n",
        "                epsilon (float): The parameter for epsilon-greedy exploration,\n",
        "                step_size (float): The step-size,\n",
        "                discount (float): The discount factor,\n",
        "                planning_steps (int): The number of planning steps per environmental interaction\n",
        "\n",
        "                random_seed (int): the seed for the RNG used in epsilon-greedy\n",
        "                planning_random_seed (int): the seed for the RNG used in the planner\n",
        "            }\n",
        "        \"\"\"\n",
        "\n",
        "        # First, we get the relevant information from agent_info \n",
        "        # NOTE: we use np.random.RandomState(seed) to set the two different RNGs\n",
        "        # for the planner and the rest of the code\n",
        "        try:\n",
        "            self.num_states = agent_info[\"num_states\"]\n",
        "            self.num_actions = agent_info[\"num_actions\"]\n",
        "        except:\n",
        "            print(\"You need to pass both 'num_states' and 'num_actions' \\\n",
        "                   in agent_info to initialize the action-value table\")\n",
        "        self.gamma = agent_info.get(\"discount\", 0.95)\n",
        "        self.step_size = agent_info.get(\"step_size\", 0.1)\n",
        "        self.epsilon = agent_info.get(\"epsilon\", 0.1)\n",
        "        self.planning_steps = agent_info.get(\"planning_steps\", 10)\n",
        "\n",
        "        self.rand_generator = np.random.RandomState(agent_info.get('random_seed', 42))\n",
        "        self.planning_rand_generator = np.random.RandomState(agent_info.get('planning_random_seed', 42))\n",
        "\n",
        "        # Next, we initialize the attributes required by the agent, e.g., q_values, model, etc.\n",
        "        # A simple way to implement the model is to have a dictionary of dictionaries, \n",
        "        #        mapping each state to a dictionary which maps actions to (reward, next state) tuples.\n",
        "        self.q_values = np.zeros((self.num_states, self.num_actions))\n",
        "        self.actions = list(range(self.num_actions))\n",
        "        self.past_action = -1\n",
        "        self.past_state = -1\n",
        "        self.model = {} # model is a dictionary of dictionaries, which maps states to actions to \n",
        "                        # (reward, next_state) tuples"
      ],
      "execution_count": 5,
      "outputs": []
    },
    {
      "cell_type": "markdown",
      "metadata": {
        "deletable": false,
        "editable": false,
        "nbgrader": {
          "checksum": "c8f49f199eb2c0bf11cba86f0b5d3c6e",
          "grade": false,
          "grade_id": "cell-02a81d97cf066622",
          "locked": true,
          "schema_version": 1,
          "solution": false
        },
        "id": "efGrFuF7AMsp"
      },
      "source": [
        "Now let's create the `update_model` method, which performs the 'Model Update' step in the pseudocode. It takes a `(s, a, s', r)` tuple and stores the next state and reward corresponding to a state-action pair.\n",
        "\n",
        "Remember, because the environment is deterministic, an easy way to implement the model is to have a dictionary of encountered states, each mapping to a dictionary of actions taken in those states, which in turn maps to a tuple of next state and reward. In this way, the model can be easily accessed by `model[s][a]`, which would return the `(s', r)` tuple."
      ]
    },
    {
      "cell_type": "code",
      "metadata": {
        "deletable": false,
        "nbgrader": {
          "checksum": "0623843f71cad67461cc0b5dd7b1751c",
          "grade": false,
          "grade_id": "cell-ca7cf60690bd1e62",
          "locked": false,
          "schema_version": 1,
          "solution": true
        },
        "id": "BEoXCuHUAMsq"
      },
      "source": [
        "%%add_to DynaQAgent\n",
        "\n",
        "# [GRADED]\n",
        "\n",
        "def update_model(self, past_state, past_action, state, reward):\n",
        "    \"\"\"updates the model \n",
        "    \n",
        "    Args:\n",
        "        past_state       (int): s\n",
        "        past_action      (int): a\n",
        "        state            (int): s'\n",
        "        reward           (int): r\n",
        "    Returns:\n",
        "        Nothing\n",
        "    \"\"\"\n",
        "    # Update the model with the (s,a,s',r) tuple (1~4 lines)\n",
        "    \n",
        "    ### START CODE HERE ###\n",
        "    self.model[past_state] = self.model.get(past_state, {})\n",
        "    self.model[past_state][past_action] = state, reward\n",
        "    ### END CODE HERE ###"
      ],
      "execution_count": 24,
      "outputs": []
    },
    {
      "cell_type": "markdown",
      "metadata": {
        "deletable": false,
        "editable": false,
        "nbgrader": {
          "checksum": "a67870254bf6049b72911dcbe495ad84",
          "grade": false,
          "grade_id": "cell-feda394cc8d0d0f0",
          "locked": true,
          "schema_version": 1,
          "solution": false
        },
        "id": "HOJ47gcJAMsq"
      },
      "source": [
        "### Test `update_model()`"
      ]
    },
    {
      "cell_type": "code",
      "metadata": {
        "deletable": false,
        "editable": false,
        "nbgrader": {
          "checksum": "4f4aeb91268cae5d6169083963dd4460",
          "grade": true,
          "grade_id": "DynaQ_update_model",
          "locked": true,
          "points": 5,
          "schema_version": 1,
          "solution": false
        },
        "id": "jZyv4F3pAMsr",
        "outputId": "b794f646-175c-430e-df54-9f17f62f2f04",
        "colab": {
          "base_uri": "https://localhost:8080/"
        }
      },
      "source": [
        "# Do not modify this cell!\n",
        "\n",
        "## Test code for update_model() ##\n",
        "\n",
        "actions = []\n",
        "agent_info = {\"num_actions\": 4, \n",
        "              \"num_states\": 3, \n",
        "              \"epsilon\": 0.1, \n",
        "              \"step_size\": 0.1, \n",
        "              \"discount\": 1.0, \n",
        "              \"random_seed\": 0,\n",
        "              \"planning_random_seed\": 0}\n",
        "test_agent = DynaQAgent()\n",
        "test_agent.agent_init(agent_info)\n",
        "test_agent.update_model(0,2,0,1)\n",
        "test_agent.update_model(2,0,1,1)\n",
        "test_agent.update_model(0,3,1,2)\n",
        "print(\"Model: \\n\", test_agent.model)\n"
      ],
      "execution_count": 25,
      "outputs": [
        {
          "output_type": "stream",
          "text": [
            "Model: \n",
            " {0: {2: (0, 1), 3: (1, 2)}, 2: {0: (1, 1)}}\n"
          ],
          "name": "stdout"
        }
      ]
    },
    {
      "cell_type": "markdown",
      "metadata": {
        "deletable": false,
        "editable": false,
        "nbgrader": {
          "checksum": "58a644632b6aea7d2850370ab1066b9e",
          "grade": false,
          "grade_id": "cell-47eee79fcc885cb6",
          "locked": true,
          "schema_version": 1,
          "solution": false
        },
        "id": "8d_vy1UZAMsr"
      },
      "source": [
        "Expected output:\n",
        "```\n",
        "Model: \n",
        " {0: {2: (0, 1), 3: (1, 2)}, 2: {0: (1, 1)}}\n",
        "```"
      ]
    },
    {
      "cell_type": "markdown",
      "metadata": {
        "deletable": false,
        "editable": false,
        "nbgrader": {
          "checksum": "b49de532a3a274adce7ebf6169961296",
          "grade": false,
          "grade_id": "cell-21e26a912d8b58f2",
          "locked": true,
          "schema_version": 1,
          "solution": false
        },
        "id": "cVxYUBklAMsr"
      },
      "source": [
        "Next, you will implement the planning step, the crux of the Dyna-Q algorithm. You shall be calling this `planning_step` method at every timestep of every trajectory."
      ]
    },
    {
      "cell_type": "code",
      "metadata": {
        "deletable": false,
        "nbgrader": {
          "checksum": "cffbe7372919f7569a283aad349cc76c",
          "grade": false,
          "grade_id": "cell-299f48859b38c670",
          "locked": false,
          "schema_version": 1,
          "solution": true
        },
        "id": "hYp8fI-qAMsr"
      },
      "source": [
        "%%add_to DynaQAgent\n",
        "\n",
        "# [GRADED]\n",
        "\n",
        "def planning_step(self):\n",
        "    \"\"\"performs planning, i.e. indirect RL.\n",
        "\n",
        "    Args:\n",
        "        None\n",
        "    Returns:\n",
        "        Nothing\n",
        "    \"\"\"\n",
        "    \n",
        "    # The indirect RL step:\n",
        "    # - Choose a state and action from the set of experiences that are stored in the model. (~2 lines)\n",
        "    # - Query the model with this state-action pair for the predicted next state and reward.(~1 line)\n",
        "    # - Update the action values with this simulated experience.                            (2~4 lines)\n",
        "    # - Repeat for the required number of planning steps.\n",
        "    #\n",
        "    # Note that the update equation is different for terminal and non-terminal transitions. \n",
        "    # To differentiate between a terminal and a non-terminal next state, assume that the model stores\n",
        "    # the terminal state as a dummy state like -1\n",
        "    #\n",
        "    # Important: remember you have a random number generator 'planning_rand_generator' as \n",
        "    #     a part of the class which you need to use as self.planning_rand_generator.choice()\n",
        "    #     For the sake of reproducibility and grading, *do not* use anything else like \n",
        "    #     np.random.choice() for performing search control.\n",
        "\n",
        "    ### START CODE HERE ###\n",
        "    for i in range(self.planning_steps):\n",
        "        past_state = self.planning_rand_generator.choice(list(self.model.keys()))\n",
        "        past_action = self.planning_rand_generator.choice(list(self.model[past_state].keys()))\n",
        "        next_state, reward = self.model[past_state][past_action]\n",
        "        if next_state == -1:\n",
        "            q_max = 0\n",
        "        else:\n",
        "            q_max = np.max(self.q_values[next_state])\n",
        "        self.q_values[past_state, past_action] += self.step_size * (reward + self.gamma * q_max - self.q_values[past_state, past_action])\n",
        "      \n",
        "\n",
        "    ### END CODE HERE ###"
      ],
      "execution_count": 26,
      "outputs": []
    },
    {
      "cell_type": "markdown",
      "metadata": {
        "deletable": false,
        "editable": false,
        "nbgrader": {
          "checksum": "022cff5daeb2a0885bec5f66231b0233",
          "grade": false,
          "grade_id": "cell-deb5f5adef22b4e0",
          "locked": true,
          "schema_version": 1,
          "solution": false
        },
        "id": "MCSBcgceAMsr"
      },
      "source": [
        "### Test `planning_step()` "
      ]
    },
    {
      "cell_type": "code",
      "metadata": {
        "deletable": false,
        "editable": false,
        "nbgrader": {
          "checksum": "e7b50b6709c1796e9649880aa88b4fcc",
          "grade": true,
          "grade_id": "DynaQ_planning_step",
          "locked": true,
          "points": 5,
          "schema_version": 1,
          "solution": false
        },
        "id": "SAWP6ZTFAMsr",
        "outputId": "13258311-cd95-451b-d5ba-d7a5d57a9598",
        "colab": {
          "base_uri": "https://localhost:8080/"
        }
      },
      "source": [
        "# Do not modify this cell!\n",
        "\n",
        "## Test code for planning_step() ##\n",
        "\n",
        "actions = []\n",
        "agent_info = {\"num_actions\": 4, \n",
        "              \"num_states\": 3, \n",
        "              \"epsilon\": 0.1, \n",
        "              \"step_size\": 0.1, \n",
        "              \"discount\": 1.0, \n",
        "              \"planning_steps\": 4,\n",
        "              \"random_seed\": 0,\n",
        "              \"planning_random_seed\": 5}\n",
        "test_agent = DynaQAgent()\n",
        "test_agent.agent_init(agent_info)\n",
        "test_agent.update_model(0,2,1,1)\n",
        "test_agent.update_model(2,0,1,1)\n",
        "test_agent.update_model(0,3,0,1)\n",
        "test_agent.update_model(0,1,-1,1)\n",
        "test_agent.planning_step()\n",
        "print(\"Model: \\n\", test_agent.model)\n",
        "print(\"Action-value estimates: \\n\", test_agent.q_values)\n"
      ],
      "execution_count": 27,
      "outputs": [
        {
          "output_type": "stream",
          "text": [
            "Model: \n",
            " {0: {2: (1, 1), 3: (0, 1), 1: (-1, 1)}, 2: {0: (1, 1)}}\n",
            "Action-value estimates: \n",
            " [[0.  0.1 0.  0.2]\n",
            " [0.  0.  0.  0. ]\n",
            " [0.1 0.  0.  0. ]]\n"
          ],
          "name": "stdout"
        }
      ]
    },
    {
      "cell_type": "markdown",
      "metadata": {
        "deletable": false,
        "editable": false,
        "nbgrader": {
          "checksum": "cafc07b98a92e3fd29e912aca8a1d2d3",
          "grade": false,
          "grade_id": "cell-2b479d946144873d",
          "locked": true,
          "schema_version": 1,
          "solution": false
        },
        "id": "gUMzc3AyAMss"
      },
      "source": [
        "Expected output:\n",
        "```\n",
        "Model: \n",
        " {0: {2: (1, 1), 3: (0, 1), 1: (-1, 1)}, 2: {0: (1, 1)}}\n",
        "Action-value estimates: \n",
        " [[0.   0.1   0.   0.2 ]\n",
        " [0.   0.   0.   0.  ]\n",
        " [0.1 0.   0.   0.  ]]\n",
        "```\n",
        "\n",
        "If your output does not match the above, one of the first things to check is to make sure that you haven't changed the `planning_random_seed` in the test cell. Additionally, make sure you have handled terminal updates correctly."
      ]
    },
    {
      "cell_type": "markdown",
      "metadata": {
        "deletable": false,
        "editable": false,
        "nbgrader": {
          "checksum": "143ef17b6c34ca12c1528346ad7af4d0",
          "grade": false,
          "grade_id": "cell-19299355538e166b",
          "locked": true,
          "schema_version": 1,
          "solution": false
        },
        "id": "hMnSHUa-AMss"
      },
      "source": [
        "Now before you move on to implement the rest of the agent methods, here are the helper functions that you've used in the previous assessments for choosing an action using an $\\epsilon$-greedy policy."
      ]
    },
    {
      "cell_type": "code",
      "metadata": {
        "deletable": false,
        "editable": false,
        "nbgrader": {
          "checksum": "1ab2ef4f11b78d87270f396028252b74",
          "grade": false,
          "grade_id": "cell-9fc1453e5bc78ee0",
          "locked": true,
          "schema_version": 1,
          "solution": false
        },
        "id": "Dj14ljV3AMss"
      },
      "source": [
        "%%add_to DynaQAgent\n",
        "\n",
        "# Do not modify this cell!\n",
        "\n",
        "def argmax(self, q_values):\n",
        "    \"\"\"argmax with random tie-breaking\n",
        "    Args:\n",
        "        q_values (Numpy array): the array of action values\n",
        "    Returns:\n",
        "        action (int): an action with the highest value\n",
        "    \"\"\"\n",
        "    top = float(\"-inf\")\n",
        "    ties = []\n",
        "\n",
        "    for i in range(len(q_values)):\n",
        "        if q_values[i] > top:\n",
        "            top = q_values[i]\n",
        "            ties = []\n",
        "\n",
        "        if q_values[i] == top:\n",
        "            ties.append(i)\n",
        "\n",
        "    return self.rand_generator.choice(ties)\n",
        "\n",
        "def choose_action_egreedy(self, state):\n",
        "    \"\"\"returns an action using an epsilon-greedy policy w.r.t. the current action-value function.\n",
        "\n",
        "    Important: assume you have a random number generator 'rand_generator' as a part of the class\n",
        "                which you can use as self.rand_generator.choice() or self.rand_generator.rand()\n",
        "\n",
        "    Args:\n",
        "        state (List): coordinates of the agent (two elements)\n",
        "    Returns:\n",
        "        The action taken w.r.t. the aforementioned epsilon-greedy policy\n",
        "    \"\"\"\n",
        "\n",
        "    if self.rand_generator.rand() < self.epsilon:\n",
        "        action = self.rand_generator.choice(self.actions)\n",
        "    else:\n",
        "        values = self.q_values[state]\n",
        "        action = self.argmax(values)\n",
        "\n",
        "    return action"
      ],
      "execution_count": 28,
      "outputs": []
    },
    {
      "cell_type": "markdown",
      "metadata": {
        "deletable": false,
        "editable": false,
        "nbgrader": {
          "checksum": "f836d363c2f53ad316e4d3be6958e543",
          "grade": false,
          "grade_id": "cell-49b0839e77c116f3",
          "locked": true,
          "schema_version": 1,
          "solution": false
        },
        "id": "aE5EyjEbAMst"
      },
      "source": [
        "Next, you will implement the rest of the agent-related methods, namely `agent_start`, `agent_step`, and `agent_end`."
      ]
    },
    {
      "cell_type": "code",
      "metadata": {
        "deletable": false,
        "nbgrader": {
          "checksum": "3d5e4eadfae22a3707932558a68f90f2",
          "grade": false,
          "grade_id": "cell-d7cd67287d3a4d59",
          "locked": false,
          "schema_version": 1,
          "solution": true
        },
        "id": "PAoCkrXOAMst"
      },
      "source": [
        "%%add_to DynaQAgent\n",
        "\n",
        "# [GRADED]\n",
        "\n",
        "def agent_start(self, state):\n",
        "    \"\"\"The first method called when the experiment starts, \n",
        "    called after the environment starts.\n",
        "    Args:\n",
        "        state (Numpy array): the state from the\n",
        "            environment's env_start function.\n",
        "    Returns:\n",
        "        (int) the first action the agent takes.\n",
        "    \"\"\"\n",
        "    \n",
        "    # given the state, select the action using self.choose_action_egreedy()), \n",
        "    # and save current state and action (~2 lines)\n",
        "    ### self.past_state = ?\n",
        "    ### self.past_action = ?\n",
        "\n",
        "    ### START CODE HERE ###\n",
        "    action= self.choose_action_egreedy(state)\n",
        "    self.past_state=state\n",
        "    self.past_action=action\n",
        "    ### END CODE HERE ###\n",
        "    \n",
        "    return self.past_action\n",
        "\n",
        "def agent_step(self, reward, state):\n",
        "    \"\"\"A step taken by the agent.\n",
        "\n",
        "    Args:\n",
        "        reward (float): the reward received for taking the last action taken\n",
        "        state (Numpy array): the state from the\n",
        "            environment's step based on where the agent ended up after the\n",
        "            last step\n",
        "    Returns:\n",
        "        (int) The action the agent takes given this state.\n",
        "    \"\"\"\n",
        "    \n",
        "    # - Direct-RL step (~1-3 lines)\n",
        "    # - Model Update step (~1 line)\n",
        "    # - `planning_step` (~1 line)\n",
        "    # - Action Selection step (~1 line)\n",
        "    # Save the current state and action before returning the action to be performed. (~2 lines)\n",
        "\n",
        "    ### START CODE HERE ###\n",
        "    q_max=np.max(self.q_values[state])\n",
        "    self.q_values[self.past_state, self.past_action] += self.step_size * (reward + self.gamma * q_max - self.q_values[self.past_state, self.past_action])\n",
        "    self.update_model(self.past_state,self.past_action,state,reward)\n",
        "    self.planning_step()\n",
        "    \n",
        "    self.past_state=state\n",
        "    self.past_action=self.choose_action_egreedy(state)\n",
        "    ### END CODE HERE ###\n",
        "    \n",
        "    return self.past_action\n",
        "\n",
        "def agent_end(self, reward):\n",
        "    \"\"\"Called when the agent terminates.\n",
        "\n",
        "    Args:\n",
        "        reward (float): the reward the agent received for entering the\n",
        "            terminal state.\n",
        "    \"\"\"\n",
        "    \n",
        "    # - Direct RL update with this final transition (1~2 lines)\n",
        "    # - Model Update step with this final transition (~1 line)\n",
        "    # - One final `planning_step` (~1 line)\n",
        "    #\n",
        "    # Note: the final transition needs to be handled carefully. Since there is no next state, \n",
        "    #       you will have to pass a dummy state (like -1), which you will be using in the planning_step() to \n",
        "    #       differentiate between updates with usual terminal and non-terminal transitions.\n",
        "\n",
        "    ### START CODE HERE ###\n",
        "    self.q_values[self.past_state, self.past_action] += self.step_size * (reward - self.q_values[self.past_state, self.past_action])\n",
        "    self.update_model(self.past_state,self.past_action,-1,reward)\n",
        "    self.planning_step()\n",
        "    ### END CODE HERE ###"
      ],
      "execution_count": 44,
      "outputs": []
    },
    {
      "cell_type": "markdown",
      "metadata": {
        "deletable": false,
        "editable": false,
        "nbgrader": {
          "checksum": "14b7a6eacec0a3564a156c15ed4cc96c",
          "grade": false,
          "grade_id": "cell-cb04070be7e98178",
          "locked": true,
          "schema_version": 1,
          "solution": false
        },
        "id": "WEFRZlyEAMsu"
      },
      "source": [
        "### Test `agent_start()`"
      ]
    },
    {
      "cell_type": "code",
      "metadata": {
        "deletable": false,
        "editable": false,
        "nbgrader": {
          "checksum": "241515d8eb09b5d0ca96c1c60a24af07",
          "grade": true,
          "grade_id": "DynaQ_agent_start",
          "locked": true,
          "points": 5,
          "schema_version": 1,
          "solution": false
        },
        "id": "2d5tsrO3AMsu",
        "outputId": "75e7e767-7bf9-4768-e923-546f536417c0",
        "colab": {
          "base_uri": "https://localhost:8080/"
        }
      },
      "source": [
        "# Do not modify this cell!\n",
        "\n",
        "## Test code for agent_start() ##\n",
        "\n",
        "agent_info = {\"num_actions\": 4, \n",
        "              \"num_states\": 3, \n",
        "              \"epsilon\": 0.1, \n",
        "              \"step_size\": 0.1, \n",
        "              \"discount\": 1.0, \n",
        "              \"random_seed\": 0,\n",
        "              \"planning_random_seed\": 0}\n",
        "test_agent = DynaQAgent()\n",
        "test_agent.agent_init(agent_info)\n",
        "action = test_agent.agent_start(0)\n",
        "print(\"Action:\", action)\n",
        "print(\"Model: \\n\", test_agent.model)\n",
        "print(\"Action-value estimates: \\n\", test_agent.q_values)\n"
      ],
      "execution_count": 36,
      "outputs": [
        {
          "output_type": "stream",
          "text": [
            "Action: 1\n",
            "Model: \n",
            " {}\n",
            "Action-value estimates: \n",
            " [[0. 0. 0. 0.]\n",
            " [0. 0. 0. 0.]\n",
            " [0. 0. 0. 0.]]\n"
          ],
          "name": "stdout"
        }
      ]
    },
    {
      "cell_type": "markdown",
      "metadata": {
        "deletable": false,
        "editable": false,
        "nbgrader": {
          "checksum": "f2c06652b1c989ff3174e42a463173ac",
          "grade": false,
          "grade_id": "cell-bc7046affcf9c2f9",
          "locked": true,
          "schema_version": 1,
          "solution": false
        },
        "id": "zev8CbjmAMsu"
      },
      "source": [
        "Expected output:\n",
        "```\n",
        "Action: 1\n",
        "Model: \n",
        " {}\n",
        "Action-value estimates: \n",
        " [[0. 0. 0. 0.]\n",
        " [0. 0. 0. 0.]\n",
        " [0. 0. 0. 0.]]\n",
        "```"
      ]
    },
    {
      "cell_type": "markdown",
      "metadata": {
        "deletable": false,
        "editable": false,
        "nbgrader": {
          "checksum": "b5b76c8ebc0936d8ca8b929d1721fe44",
          "grade": false,
          "grade_id": "cell-069a254ee4ba6e25",
          "locked": true,
          "schema_version": 1,
          "solution": false
        },
        "id": "--n-YaL0AMsu"
      },
      "source": [
        "### Test `agent_step()`"
      ]
    },
    {
      "cell_type": "code",
      "metadata": {
        "deletable": false,
        "editable": false,
        "nbgrader": {
          "checksum": "24bf8b0fdf3408e6a36ea968df0c6a36",
          "grade": true,
          "grade_id": "DynaQ__agent_step",
          "locked": true,
          "points": 5,
          "schema_version": 1,
          "solution": false
        },
        "id": "GYgDdE2RAMsv",
        "outputId": "ea567604-d094-44ab-9acd-628f542c1c39",
        "colab": {
          "base_uri": "https://localhost:8080/"
        }
      },
      "source": [
        "# Do not modify this cell!\n",
        "\n",
        "## Test code for agent_step() ##\n",
        "\n",
        "actions = []\n",
        "agent_info = {\"num_actions\": 4, \n",
        "              \"num_states\": 3, \n",
        "              \"epsilon\": 0.1, \n",
        "              \"step_size\": 0.1, \n",
        "              \"discount\": 1.0, \n",
        "              \"planning_steps\": 2,\n",
        "              \"random_seed\": 0,\n",
        "              \"planning_random_seed\": 0}\n",
        "test_agent = DynaQAgent()\n",
        "test_agent.agent_init(agent_info)\n",
        "actions.append(test_agent.agent_start(0))\n",
        "actions.append(test_agent.agent_step(1,2))\n",
        "actions.append(test_agent.agent_step(0,1))\n",
        "print(\"Actions:\", actions)\n",
        "print(\"Model: \\n\", test_agent.model)\n",
        "print(\"Action-value estimates: \\n\", test_agent.q_values)\n"
      ],
      "execution_count": 42,
      "outputs": [
        {
          "output_type": "stream",
          "text": [
            "Actions: [1, 3, 1]\n",
            "Model: \n",
            " {0: {1: (2, 1)}, 2: {3: (1, 0)}}\n",
            "Action-value estimates: \n",
            " [[0.     0.3439 0.     0.    ]\n",
            " [0.     0.     0.     0.    ]\n",
            " [0.     0.     0.     0.    ]]\n"
          ],
          "name": "stdout"
        }
      ]
    },
    {
      "cell_type": "markdown",
      "metadata": {
        "deletable": false,
        "editable": false,
        "nbgrader": {
          "checksum": "a47eae38f5b82056b69ea71037a76465",
          "grade": false,
          "grade_id": "cell-0b8605acd440fc7d",
          "locked": true,
          "schema_version": 1,
          "solution": false
        },
        "id": "I_Ap9ymaAMsv"
      },
      "source": [
        "Expected output:\n",
        "\n",
        "```\n",
        "Actions: [1, 3, 1]\n",
        "Model: \n",
        " {0: {1: (2, 1)}, 2: {3: (1, 0)}}\n",
        "Action-value estimates: \n",
        " [[0.     0.3439 0.     0.    ]\n",
        " [0.     0.     0.     0.    ]\n",
        " [0.     0.     0.     0.    ]]\n",
        "```"
      ]
    },
    {
      "cell_type": "markdown",
      "metadata": {
        "deletable": false,
        "editable": false,
        "nbgrader": {
          "checksum": "c1fee78afea91645becfd5b193b4b9ab",
          "grade": false,
          "grade_id": "cell-8d3e06f7f489a49c",
          "locked": true,
          "schema_version": 1,
          "solution": false
        },
        "id": "g6WiYGsQAMsv"
      },
      "source": [
        "### Test `agent_end()`"
      ]
    },
    {
      "cell_type": "code",
      "metadata": {
        "deletable": false,
        "editable": false,
        "nbgrader": {
          "checksum": "b8e64a1aa1ab9917e78149b1ab4fc9e8",
          "grade": true,
          "grade_id": "DynaQ_agent_end",
          "locked": true,
          "points": 5,
          "schema_version": 1,
          "solution": false
        },
        "id": "Ya6uaLZpAMsv",
        "outputId": "cccda7a9-20dd-46ba-9cfd-bf6bd424918a",
        "colab": {
          "base_uri": "https://localhost:8080/"
        }
      },
      "source": [
        "# Do not modify this cell!\n",
        "\n",
        "## Test code for agent_end() ##\n",
        "\n",
        "actions = []\n",
        "agent_info = {\"num_actions\": 4, \n",
        "              \"num_states\": 3, \n",
        "              \"epsilon\": 0.1, \n",
        "              \"step_size\": 0.1, \n",
        "              \"discount\": 1.0, \n",
        "              \"planning_steps\": 2,\n",
        "              \"random_seed\": 0,\n",
        "              \"planning_random_seed\": 0}\n",
        "test_agent = DynaQAgent()\n",
        "test_agent.agent_init(agent_info)\n",
        "actions.append(test_agent.agent_start(0))\n",
        "actions.append(test_agent.agent_step(1,2))\n",
        "actions.append(test_agent.agent_step(0,1))\n",
        "test_agent.agent_end(1)\n",
        "print(\"Actions:\", actions)\n",
        "print(\"Model: \\n\", test_agent.model)\n",
        "print(\"Action-value Estimates: \\n\", test_agent.q_values)\n"
      ],
      "execution_count": 45,
      "outputs": [
        {
          "output_type": "stream",
          "text": [
            "Actions: [1, 3, 1]\n",
            "Model: \n",
            " {0: {1: (2, 1)}, 2: {3: (1, 0)}, 1: {1: (-1, 1)}}\n",
            "Action-value Estimates: \n",
            " [[0.      0.41051 0.      0.     ]\n",
            " [0.      0.1     0.      0.     ]\n",
            " [0.      0.      0.      0.01   ]]\n"
          ],
          "name": "stdout"
        }
      ]
    },
    {
      "cell_type": "markdown",
      "metadata": {
        "deletable": false,
        "editable": false,
        "nbgrader": {
          "checksum": "43711ecd45a75f4ee1f31ac3f5127477",
          "grade": false,
          "grade_id": "cell-25bdfd8dc303b1e7",
          "locked": true,
          "schema_version": 1,
          "solution": false
        },
        "id": "S2u6jyD2AMsx"
      },
      "source": [
        "Expected output:\n",
        "\n",
        "```\n",
        "Actions: [1, 3, 1]\n",
        "Model: \n",
        " {0: {1: (2, 1)}, 2: {3: (1, 0)}, 1: {1: (-1, 1)}}\n",
        "Action-value Estimates: \n",
        " [[0.      0.41051 0.      0.     ]\n",
        " [0.      0.1     0.      0.     ]\n",
        " [0.      0.      0.      0.01   ]]\n",
        "\n",
        "```"
      ]
    },
    {
      "cell_type": "markdown",
      "metadata": {
        "deletable": false,
        "editable": false,
        "nbgrader": {
          "checksum": "12f59fa0e03a4b5df596a73e3dae0c02",
          "grade": false,
          "grade_id": "cell-329423dc3230312d",
          "locked": true,
          "schema_version": 1,
          "solution": false
        },
        "id": "MO1NuLW0AMsx"
      },
      "source": [
        "### Experiment: Dyna-Q agent in the maze environment\n",
        "\n",
        "Alright. Now we have all the components of the `DynaQAgent` ready. Let's try it out on the maze environment! \n",
        "\n",
        "The next cell runs an experiment on this maze environment to test your implementation. The initial action values are $0$, the step-size parameter is $0.125$. and the exploration parameter is $\\epsilon=0.1$. After the experiment, the sum of rewards in each episode should match the correct result.\n",
        "\n",
        "We will try planning steps of $0,5,50$ and compare their performance in terms of the average number of steps taken to reach the goal state in the aforementioned maze environment. For scientific rigor, we will run each experiment $30$ times. In each experiment, we set the initial random-number-generator (RNG) seeds for a fair comparison across algorithms."
      ]
    },
    {
      "cell_type": "code",
      "metadata": {
        "deletable": false,
        "editable": false,
        "nbgrader": {
          "checksum": "a2573b31bd8cce3a89beba2ec09ab2c3",
          "grade": false,
          "grade_id": "cell-28355ff7447c705f",
          "locked": true,
          "schema_version": 1,
          "solution": false
        },
        "id": "raP4jO2dAMsx"
      },
      "source": [
        "# Do not modify this cell!\n",
        "\n",
        "def run_experiment(env, agent, env_parameters, agent_parameters, exp_parameters):\n",
        "\n",
        "    # Experiment settings\n",
        "    num_runs = exp_parameters['num_runs']\n",
        "    num_episodes = exp_parameters['num_episodes']\n",
        "    planning_steps_all = agent_parameters['planning_steps']\n",
        "\n",
        "    env_info = env_parameters                     \n",
        "    agent_info = {\"num_states\" : agent_parameters[\"num_states\"],  # We pass the agent the information it needs. \n",
        "                  \"num_actions\" : agent_parameters[\"num_actions\"],\n",
        "                  \"epsilon\": agent_parameters[\"epsilon\"], \n",
        "                  \"discount\": env_parameters[\"discount\"],\n",
        "                  \"step_size\" : agent_parameters[\"step_size\"]}\n",
        "\n",
        "    all_averages = np.zeros((len(planning_steps_all), num_runs, num_episodes)) # for collecting metrics \n",
        "    log_data = {'planning_steps_all' : planning_steps_all}                     # that shall be plotted later\n",
        "\n",
        "    for idx, planning_steps in enumerate(planning_steps_all):\n",
        "\n",
        "        print('Planning steps : ', planning_steps)\n",
        "        os.system('sleep 0.5')                    # to prevent tqdm printing out-of-order before the above print()\n",
        "        agent_info[\"planning_steps\"] = planning_steps  \n",
        "\n",
        "        for i in tqdm(range(num_runs)):\n",
        "\n",
        "            agent_info['random_seed'] = i\n",
        "            agent_info['planning_random_seed'] = i\n",
        "\n",
        "            rl_glue = RLGlue(env, agent)          # Creates a new RLGlue experiment with the env and agent we chose above\n",
        "            rl_glue.rl_init(agent_info, env_info) # We pass RLGlue what it needs to initialize the agent and environment\n",
        "\n",
        "            for j in range(num_episodes):\n",
        "\n",
        "                rl_glue.rl_start()                # We start an episode. Here we aren't using rl_glue.rl_episode()\n",
        "                                                  # like the other assessments because we'll be requiring some \n",
        "                is_terminal = False               # data from within the episodes in some of the experiments here \n",
        "                num_steps = 0\n",
        "                while not is_terminal:\n",
        "                    reward, _, action, is_terminal = rl_glue.rl_step()  # The environment and agent take a step \n",
        "                    num_steps += 1                                      # and return the reward and action taken.\n",
        "\n",
        "                all_averages[idx][i][j] = num_steps\n",
        "\n",
        "    log_data['all_averages'] = all_averages\n",
        "    np.save(\"results/Dyna-Q_planning_steps\", log_data)\n",
        "    \n",
        "\n",
        "def plot_steps_per_episode(file_path):\n",
        "\n",
        "    data = np.load(file_path,allow_pickle=True).item()\n",
        "    all_averages = data['all_averages']\n",
        "    planning_steps_all = data['planning_steps_all']\n",
        "\n",
        "    for i, planning_steps in enumerate(planning_steps_all):\n",
        "        plt.plot(np.mean(all_averages[i], axis=0), label='Planning steps = '+str(planning_steps))\n",
        "\n",
        "    plt.legend(loc='upper right')\n",
        "    plt.xlabel('Episodes')\n",
        "    plt.ylabel('Steps\\nper\\nepisode', rotation=0, labelpad=40)\n",
        "    plt.axhline(y=16, linestyle='--', color='grey', alpha=0.4)\n",
        "    plt.show()"
      ],
      "execution_count": 50,
      "outputs": []
    },
    {
      "cell_type": "code",
      "metadata": {
        "id": "LgCKW2bWAMsx",
        "outputId": "14c47390-5169-4689-9d75-6da4dce14e99",
        "colab": {
          "base_uri": "https://localhost:8080/",
          "height": 383
        }
      },
      "source": [
        "# Do NOT modify the parameter settings.\n",
        "\n",
        "# Experiment parameters\n",
        "experiment_parameters = {\n",
        "    \"num_runs\" : 30,                     # The number of times we run the experiment\n",
        "    \"num_episodes\" : 40,                 # The number of episodes per experiment\n",
        "}\n",
        "\n",
        "# Environment parameters\n",
        "environment_parameters = { \n",
        "    \"discount\": 0.95,\n",
        "}\n",
        "\n",
        "# Agent parameters\n",
        "agent_parameters = {  \n",
        "    \"num_states\" : 54,\n",
        "    \"num_actions\" : 4, \n",
        "    \"epsilon\": 0.1, \n",
        "    \"step_size\" : 0.125,\n",
        "    \"planning_steps\" : [0, 5, 50]       # The list of planning_steps we want to try\n",
        "}\n",
        "\n",
        "current_env = ShortcutMazeEnvironment   # The environment\n",
        "current_agent = DynaQAgent              # The agent\n",
        "\n",
        "run_experiment(current_env, current_agent, environment_parameters, agent_parameters, experiment_parameters)\n",
        "plot_steps_per_episode('results/Dyna-Q_planning_steps.npy')   \n",
        "shutil.make_archive('results', 'zip', 'results');"
      ],
      "execution_count": 51,
      "outputs": [
        {
          "output_type": "stream",
          "text": [
            "Planning steps :  0\n"
          ],
          "name": "stdout"
        },
        {
          "output_type": "stream",
          "text": [
            "100%|██████████| 30/30 [00:10<00:00,  2.78it/s]\n"
          ],
          "name": "stderr"
        },
        {
          "output_type": "stream",
          "text": [
            "Planning steps :  5\n"
          ],
          "name": "stdout"
        },
        {
          "output_type": "stream",
          "text": [
            "100%|██████████| 30/30 [00:12<00:00,  2.35it/s]\n"
          ],
          "name": "stderr"
        },
        {
          "output_type": "stream",
          "text": [
            "Planning steps :  50\n"
          ],
          "name": "stdout"
        },
        {
          "output_type": "stream",
          "text": [
            "100%|██████████| 30/30 [01:31<00:00,  3.04s/it]\n"
          ],
          "name": "stderr"
        },
        {
          "output_type": "display_data",
          "data": {
            "image/png": "[encoded data removed]",
            "text/plain": [
              "<Figure size 432x288 with 1 Axes>"
            ]
          },
          "metadata": {
            "tags": [],
            "needs_background": "light"
          }
        }
      ]
    },
    {
      "cell_type": "markdown",
      "metadata": {
        "deletable": false,
        "editable": false,
        "nbgrader": {
          "checksum": "b78255378e333ad6a4b69eadb1c5bce9",
          "grade": false,
          "grade_id": "cell-e55bf393c9e5a94b",
          "locked": true,
          "schema_version": 1,
          "solution": false
        },
        "id": "1KksxmzTAMsx"
      },
      "source": [
        "What do you notice?\n",
        "\n",
        "As the number of planning steps increases, the number of episodes taken to reach the goal decreases rapidly. Remember that the RNG seed was set the same for all the three values of planning steps, resulting in the same number of steps taken to reach the goal in the first episode. Thereafter, the performance improves. The slowest improvement is when there are $n=0$ planning steps, i.e., for the non-planning Q-learning agent, even though the step size parameter was optimized for it. Note that the grey dotted line shows the minimum number of steps required to reach the goal state under the optimal greedy policy.\n",
        "\n",
        "---\n"
      ]
    },
    {
      "cell_type": "markdown",
      "metadata": {
        "deletable": false,
        "editable": false,
        "nbgrader": {
          "checksum": "38982e501241998792ae2aebe105c47b",
          "grade": false,
          "grade_id": "cell-56f6a9492acc5115",
          "locked": true,
          "schema_version": 1,
          "solution": false
        },
        "id": "Gi-m6icaAMsy"
      },
      "source": [
        "### Experiment(s): Dyna-Q agent in the _changing_ maze environment "
      ]
    },
    {
      "cell_type": "markdown",
      "metadata": {
        "deletable": false,
        "editable": false,
        "nbgrader": {
          "checksum": "28e53909e26c756c30000e1a0f0d9b4c",
          "grade": false,
          "grade_id": "cell-64cbd79abcf74fce",
          "locked": true,
          "schema_version": 1,
          "solution": false
        },
        "id": "6vxpDoXeAMsy"
      },
      "source": [
        "Great! Now let us see how Dyna-Q performs on the version of the maze in which a shorter path opens up after 3000 steps. The rest of the transition and reward dynamics remain the same. \n",
        "\n",
        "<img src=\"https://github.com/adithyaprem/Reinforcement-Learning-Specialization/blob/master/Sample-based%20Learning%20Methods/Week%205/images/shortcut_env_after.png?raw=1\" alt=\"environment\" width=\"800\"/>\n",
        "\n",
        "Before you proceed, take a moment to think about what you expect to see. Will Dyna-Q find the new, shorter path to the goal? If so, why? If not, why not?"
      ]
    },
    {
      "cell_type": "code",
      "metadata": {
        "deletable": false,
        "editable": false,
        "nbgrader": {
          "checksum": "fd85c37c0082135d539e4160d4e07949",
          "grade": false,
          "grade_id": "cell-8f6730285bc8288e",
          "locked": true,
          "schema_version": 1,
          "solution": false
        },
        "id": "g283uNxGAMsy"
      },
      "source": [
        "# Do not modify this cell!\n",
        "\n",
        "def run_experiment_with_state_visitations(env, agent, env_parameters, agent_parameters, exp_parameters, result_file_name):\n",
        "\n",
        "    # Experiment settings\n",
        "    num_runs = exp_parameters['num_runs']\n",
        "    num_max_steps = exp_parameters['num_max_steps']\n",
        "    planning_steps_all = agent_parameters['planning_steps']\n",
        "\n",
        "    env_info = {\"change_at_n\" : env_parameters[\"change_at_n\"]}                     \n",
        "    agent_info = {\"num_states\" : agent_parameters[\"num_states\"],  \n",
        "                  \"num_actions\" : agent_parameters[\"num_actions\"],\n",
        "                  \"epsilon\": agent_parameters[\"epsilon\"], \n",
        "                  \"discount\": env_parameters[\"discount\"],\n",
        "                  \"step_size\" : agent_parameters[\"step_size\"]}\n",
        "\n",
        "    state_visits_before_change = np.zeros((len(planning_steps_all), num_runs, 54))  # For saving the number of\n",
        "    state_visits_after_change = np.zeros((len(planning_steps_all), num_runs, 54))   #     state-visitations \n",
        "    cum_reward_all = np.zeros((len(planning_steps_all), num_runs, num_max_steps))   # For saving the cumulative reward\n",
        "    log_data = {'planning_steps_all' : planning_steps_all}\n",
        "\n",
        "    for idx, planning_steps in enumerate(planning_steps_all):\n",
        "\n",
        "        print('Planning steps : ', planning_steps)\n",
        "        os.system('sleep 1')          # to prevent tqdm printing out-of-order before the above print()\n",
        "        agent_info[\"planning_steps\"] = planning_steps  # We pass the agent the information it needs. \n",
        "\n",
        "        for run in tqdm(range(num_runs)):\n",
        "\n",
        "            agent_info['random_seed'] = run\n",
        "            agent_info['planning_random_seed'] = run\n",
        "\n",
        "            rl_glue = RLGlue(env, agent)  # Creates a new RLGlue experiment with the env and agent we chose above\n",
        "            rl_glue.rl_init(agent_info, env_info) # We pass RLGlue what it needs to initialize the agent and environment\n",
        "\n",
        "            num_steps = 0\n",
        "            cum_reward = 0\n",
        "\n",
        "            while num_steps < num_max_steps-1 :\n",
        "\n",
        "                state, _ = rl_glue.rl_start()  # We start the experiment. We'll be collecting the \n",
        "                is_terminal = False            # state-visitation counts to visiualize the learned policy\n",
        "                if num_steps < env_parameters[\"change_at_n\"]: \n",
        "                    state_visits_before_change[idx][run][state] += 1\n",
        "                else:\n",
        "                    state_visits_after_change[idx][run][state] += 1\n",
        "\n",
        "                while not is_terminal and num_steps < num_max_steps-1 :\n",
        "                    reward, state, action, is_terminal = rl_glue.rl_step()  \n",
        "                    num_steps += 1\n",
        "                    cum_reward += reward\n",
        "                    cum_reward_all[idx][run][num_steps] = cum_reward\n",
        "                    if num_steps < env_parameters[\"change_at_n\"]:\n",
        "                        state_visits_before_change[idx][run][state] += 1\n",
        "                    else:\n",
        "                        state_visits_after_change[idx][run][state] += 1\n",
        "\n",
        "    log_data['state_visits_before'] = state_visits_before_change\n",
        "    log_data['state_visits_after'] = state_visits_after_change\n",
        "    log_data['cum_reward_all'] = cum_reward_all\n",
        "    np.save(\"results/\" + result_file_name, log_data)\n",
        "\n",
        "def plot_cumulative_reward(file_path, item_key, y_key, y_axis_label, legend_prefix, title):\n",
        "\n",
        "    data_all = np.load(file_path,allow_pickle=True).item()\n",
        "    data_y_all = data_all[y_key]\n",
        "    items = data_all[item_key]\n",
        "\n",
        "    for i, item in enumerate(items):\n",
        "        plt.plot(np.mean(data_y_all[i], axis=0), label=legend_prefix+str(item))\n",
        "\n",
        "    plt.axvline(x=3000, linestyle='--', color='grey', alpha=0.4)\n",
        "    plt.xlabel('Timesteps')\n",
        "    plt.ylabel(y_axis_label, rotation=0, labelpad=60)\n",
        "    plt.legend(loc='upper left')\n",
        "    plt.title(title)\n",
        "    plt.show()"
      ],
      "execution_count": 60,
      "outputs": []
    },
    {
      "cell_type": "markdown",
      "metadata": {
        "deletable": false,
        "editable": false,
        "nbgrader": {
          "checksum": "e463255ee451c8ca255ed3f24dd96bf4",
          "grade": false,
          "grade_id": "cell-7a4965729e7c41f3",
          "locked": true,
          "schema_version": 1,
          "solution": false
        },
        "id": "l3829Ka3AMsz"
      },
      "source": [
        "Did you notice that the environment changes after a fixed number of _steps_ and not episodes? \n",
        "\n",
        "This is because the environment is separate from the agent, and the environment changes irrespective of the length of each episode (i.e., the number of environmental interactions per episode) that the agent perceives. And hence we are now plotting the data per step or interaction of the agent and the environment, in order to comfortably see the differences in the behaviours of the agents before and after the environment changes.  "
      ]
    },
    {
      "cell_type": "markdown",
      "metadata": {
        "deletable": false,
        "editable": false,
        "nbgrader": {
          "checksum": "e5a10d7810edcc38ed364530e320e5b7",
          "grade": false,
          "grade_id": "cell-1585cb7119e3b66d",
          "locked": true,
          "schema_version": 1,
          "solution": false
        },
        "id": "6W_pJEvFAMsz"
      },
      "source": [
        "Okay, now we will first plot the cumulative reward obtained by the agent per interaction with the environment, averaged over 10 runs of the experiment on this changing world. "
      ]
    },
    {
      "cell_type": "code",
      "metadata": {
        "id": "Li7aQS6LAMsz",
        "outputId": "cc475dc3-c04a-4b39-8ee6-297e4780032d",
        "colab": {
          "base_uri": "https://localhost:8080/",
          "height": 972
        }
      },
      "source": [
        "# Do NOT modify the parameter settings.\n",
        "\n",
        "# Experiment parameters\n",
        "experiment_parameters = {\n",
        "    \"num_runs\" : 10,                     # The number of times we run the experiment\n",
        "    \"num_max_steps\" : 6000,              # The number of steps per experiment\n",
        "}\n",
        "\n",
        "# Environment parameters\n",
        "environment_parameters = { \n",
        "    \"discount\": 0.95,\n",
        "    \"change_at_n\": 3000\n",
        "}\n",
        "\n",
        "# Agent parameters\n",
        "agent_parameters = {  \n",
        "    \"num_states\" : 54,\n",
        "    \"num_actions\" : 4, \n",
        "    \"epsilon\": 0.1, \n",
        "    \"step_size\" : 0.125,\n",
        "    \"planning_steps\" : [5, 10, 50]      # The list of planning_steps we want to try\n",
        "}\n",
        "\n",
        "current_env = ShortcutMazeEnvironment   # The environment\n",
        "current_agent = DynaQAgent              # The agent\n",
        "\n",
        "run_experiment_with_state_visitations(current_env, current_agent, environment_parameters, agent_parameters, experiment_parameters, \"Dyna-Q_shortcut_steps\")    \n",
        "plot_cumulative_reward('results/Dyna-Q_shortcut_steps.npy', 'planning_steps_all', 'cum_reward_all', 'Cumulative\\nreward', 'Planning steps = ', 'Dyna-Q : Varying planning_steps')"
      ],
      "execution_count": 61,
      "outputs": [
        {
          "output_type": "stream",
          "text": [
            "Planning steps :  5\n"
          ],
          "name": "stdout"
        },
        {
          "output_type": "stream",
          "text": [
            "\n",
            "  0%|          | 0/10 [00:00<?, ?it/s]\u001b[A\n",
            " 10%|█         | 1/10 [00:01<00:14,  1.57s/it]\u001b[A\n",
            " 20%|██        | 2/10 [00:03<00:12,  1.54s/it]\u001b[A\n",
            " 30%|███       | 3/10 [00:04<00:10,  1.57s/it]\u001b[A\n",
            " 40%|████      | 4/10 [00:06<00:09,  1.51s/it]\u001b[A\n",
            " 50%|█████     | 5/10 [00:07<00:07,  1.50s/it]\u001b[A\n",
            " 60%|██████    | 6/10 [00:09<00:06,  1.53s/it]\u001b[A\n",
            " 70%|███████   | 7/10 [00:10<00:04,  1.49s/it]\u001b[A\n",
            " 80%|████████  | 8/10 [00:11<00:02,  1.47s/it]\u001b[A\n",
            " 90%|█████████ | 9/10 [00:13<00:01,  1.43s/it]\u001b[A\n",
            "100%|██████████| 10/10 [00:14<00:00,  1.45s/it]\n"
          ],
          "name": "stderr"
        },
        {
          "output_type": "stream",
          "text": [
            "Planning steps :  10\n"
          ],
          "name": "stdout"
        },
        {
          "output_type": "stream",
          "text": [
            "\n",
            "  0%|          | 0/10 [00:00<?, ?it/s]\u001b[A\n",
            " 10%|█         | 1/10 [00:03<00:27,  3.00s/it]\u001b[A\n",
            " 20%|██        | 2/10 [00:06<00:24,  3.02s/it]\u001b[A\n",
            " 30%|███       | 3/10 [00:08<00:20,  2.96s/it]\u001b[A\n",
            " 40%|████      | 4/10 [00:11<00:16,  2.80s/it]\u001b[A\n",
            " 50%|█████     | 5/10 [00:14<00:13,  2.78s/it]\u001b[A\n",
            " 60%|██████    | 6/10 [00:16<00:10,  2.73s/it]\u001b[A\n",
            " 70%|███████   | 7/10 [00:19<00:08,  2.72s/it]\u001b[A\n",
            " 80%|████████  | 8/10 [00:21<00:05,  2.64s/it]\u001b[A\n",
            " 90%|█████████ | 9/10 [00:24<00:02,  2.64s/it]\u001b[A\n",
            "100%|██████████| 10/10 [00:27<00:00,  2.71s/it]\n"
          ],
          "name": "stderr"
        },
        {
          "output_type": "stream",
          "text": [
            "Planning steps :  50\n"
          ],
          "name": "stdout"
        },
        {
          "output_type": "stream",
          "text": [
            "\n",
            "  0%|          | 0/10 [00:00<?, ?it/s]\u001b[A\n",
            " 10%|█         | 1/10 [00:13<01:57, 13.05s/it]\u001b[A\n",
            " 20%|██        | 2/10 [00:23<01:37, 12.22s/it]\u001b[A\n",
            " 30%|███       | 3/10 [00:35<01:25, 12.17s/it]\u001b[A\n",
            " 40%|████      | 4/10 [00:47<01:13, 12.28s/it]\u001b[A\n",
            " 50%|█████     | 5/10 [01:00<01:01, 12.25s/it]\u001b[A\n",
            " 60%|██████    | 6/10 [01:12<00:49, 12.44s/it]\u001b[A\n",
            " 70%|███████   | 7/10 [01:25<00:37, 12.38s/it]\u001b[A\n",
            " 80%|████████  | 8/10 [01:37<00:24, 12.24s/it]\u001b[A\n",
            " 90%|█████████ | 9/10 [01:48<00:12, 12.06s/it]\u001b[A\n",
            "100%|██████████| 10/10 [02:01<00:00, 12.18s/it]\n"
          ],
          "name": "stderr"
        },
        {
          "output_type": "display_data",
          "data": {
            "image/png": "[encoded data removed]",
            "text/plain": [
              "<Figure size 432x288 with 1 Axes>"
            ]
          },
          "metadata": {
            "tags": [],
            "needs_background": "light"
          }
        }
      ]
    },
    {
      "cell_type": "markdown",
      "metadata": {
        "deletable": false,
        "editable": false,
        "nbgrader": {
          "checksum": "2ce0809c6896af47bf2391c654533a42",
          "grade": false,
          "grade_id": "cell-bdab2f4622d3890b",
          "locked": true,
          "schema_version": 1,
          "solution": false
        },
        "id": "0xpUaQZJAMs0"
      },
      "source": [
        "We observe that the slope of the curves is almost constant. If the agent had discovered the shortcut and begun using it, we would expect to see an increase in the slope of the curves towards the later stages of training. This is because the agent can get to the goal state faster and get the positive reward. Note that the timestep at which the shortcut opens up is marked by the grey dotted line.\n",
        "\n",
        "Note that this trend is constant across the increasing number of planning steps.\n",
        "\n",
        "Now let's check the heatmap of the state visitations of the agent with `planning_steps=10` during training, before and after the shortcut opens up after 3000 timesteps."
      ]
    },
    {
      "cell_type": "code",
      "metadata": {
        "deletable": false,
        "editable": false,
        "nbgrader": {
          "checksum": "2ebb3b3a6fa7c60ee1f35412d3b35e74",
          "grade": false,
          "grade_id": "cell-36a0d9e197e4f128",
          "locked": true,
          "schema_version": 1,
          "solution": false
        },
        "id": "oLq2nnvHAMs0"
      },
      "source": [
        "# Do not modify this cell!\n",
        "\n",
        "def plot_state_visitations(file_path, plot_titles, idx):\n",
        "\n",
        "    data = np.load(file_path,allow_pickle=True).item()\n",
        "    data_keys = [\"state_visits_before\", \"state_visits_after\"]\n",
        "    positions = [211,212]\n",
        "    titles = plot_titles\n",
        "    wall_ends = [None,-1]\n",
        "\n",
        "    for i in range(2):\n",
        "\n",
        "        state_visits = data[data_keys[i]][idx]\n",
        "        average_state_visits = np.mean(state_visits, axis=0)\n",
        "        grid_state_visits = np.rot90(average_state_visits.reshape((6,9)).T)\n",
        "        grid_state_visits[2,1:wall_ends[i]] = np.nan # walls\n",
        "        #print(average_state_visits.reshape((6,9)))\n",
        "        plt.subplot(positions[i])\n",
        "        plt.pcolormesh(grid_state_visits, edgecolors='gray', linewidth=1, cmap='viridis')\n",
        "        plt.text(3+0.5, 0+0.5, 'S', horizontalalignment='center', verticalalignment='center')\n",
        "        plt.text(8+0.5, 5+0.5, 'G', horizontalalignment='center', verticalalignment='center')\n",
        "        plt.title(titles[i])\n",
        "        plt.axis('off')\n",
        "        cm = plt.get_cmap()\n",
        "        cm.set_bad('gray')\n",
        "\n",
        "    plt.subplots_adjust(bottom=0.0, right=0.7, top=1.0)\n",
        "    cax = plt.axes([1., 0.0, 0.075, 1.])\n",
        "    cbar = plt.colorbar(cax=cax)\n",
        "    plt.show()"
      ],
      "execution_count": 63,
      "outputs": []
    },
    {
      "cell_type": "code",
      "metadata": {
        "id": "MsALKAAoAMs1",
        "outputId": "c8e5299d-e64b-424b-9b59-9ba89f664efc",
        "colab": {
          "base_uri": "https://localhost:8080/",
          "height": 335
        }
      },
      "source": [
        "# Do not modify this cell!\n",
        "\n",
        "plot_state_visitations(\"results/Dyna-Q_shortcut_steps.npy\", ['Dyna-Q : State visitations before the env changes', 'Dyna-Q : State visitations after the env changes'], 1)"
      ],
      "execution_count": 64,
      "outputs": [
        {
          "output_type": "display_data",
          "data": {
            "image/png": "[encoded data removed]",
            "text/plain": [
              "<Figure size 432x288 with 3 Axes>"
            ]
          },
          "metadata": {
            "tags": [],
            "needs_background": "light"
          }
        }
      ]
    },
    {
      "cell_type": "markdown",
      "metadata": {
        "deletable": false,
        "editable": false,
        "nbgrader": {
          "checksum": "15aded4269ccf83bd3fa9b4ca9be353c",
          "grade": false,
          "grade_id": "cell-61bd2cfdba9cc49d",
          "locked": true,
          "schema_version": 1,
          "solution": false
        },
        "id": "z8lT3e92AMs1"
      },
      "source": [
        "What do you observe?\n",
        "\n",
        "The state visitation map looks almost the same before and after the shortcut opens. This means that the Dyna-Q agent hasn't quite discovered and started exploiting the new shortcut.\n",
        "\n",
        "Now let's try increasing the exploration parameter $\\epsilon$ to see if it helps the Dyna-Q agent discover the shortcut. "
      ]
    },
    {
      "cell_type": "code",
      "metadata": {
        "deletable": false,
        "editable": false,
        "nbgrader": {
          "checksum": "c97f95a59de3b9000e564c23dd1e8a6e",
          "grade": false,
          "grade_id": "cell-c9eab4ed4cf50870",
          "locked": true,
          "schema_version": 1,
          "solution": false
        },
        "id": "m_kEfczfAMs1"
      },
      "source": [
        "# Do not modify this cell!\n",
        "\n",
        "def run_experiment_only_cumulative_reward(env, agent, env_parameters, agent_parameters, exp_parameters):\n",
        "\n",
        "    # Experiment settings\n",
        "    num_runs = exp_parameters['num_runs']\n",
        "    num_max_steps = exp_parameters['num_max_steps']\n",
        "    epsilons = agent_parameters['epsilons']\n",
        "\n",
        "    env_info = {\"change_at_n\" : env_parameters[\"change_at_n\"]}                     \n",
        "    agent_info = {\"num_states\" : agent_parameters[\"num_states\"],  \n",
        "                  \"num_actions\" : agent_parameters[\"num_actions\"],\n",
        "                  \"planning_steps\": agent_parameters[\"planning_steps\"], \n",
        "                  \"discount\": env_parameters[\"discount\"],\n",
        "                  \"step_size\" : agent_parameters[\"step_size\"]}\n",
        "\n",
        "    log_data = {'epsilons' : epsilons} \n",
        "    cum_reward_all = np.zeros((len(epsilons), num_runs, num_max_steps))\n",
        "\n",
        "    for eps_idx, epsilon in enumerate(epsilons):\n",
        "\n",
        "        print('Agent : Dyna-Q, epsilon : %f' % epsilon)\n",
        "        os.system('sleep 1')          # to prevent tqdm printing out-of-order before the above print()\n",
        "        agent_info[\"epsilon\"] = epsilon\n",
        "\n",
        "        for run in tqdm(range(num_runs)):\n",
        "\n",
        "            agent_info['random_seed'] = run\n",
        "            agent_info['planning_random_seed'] = run\n",
        "\n",
        "            rl_glue = RLGlue(env, agent)  # Creates a new RLGlue experiment with the env and agent we chose above\n",
        "            rl_glue.rl_init(agent_info, env_info) # We pass RLGlue what it needs to initialize the agent and environment\n",
        "\n",
        "            num_steps = 0\n",
        "            cum_reward = 0\n",
        "\n",
        "            while num_steps < num_max_steps-1 :\n",
        "\n",
        "                rl_glue.rl_start()  # We start the experiment\n",
        "                is_terminal = False\n",
        "\n",
        "                while not is_terminal and num_steps < num_max_steps-1 :\n",
        "                    reward, _, action, is_terminal = rl_glue.rl_step()  # The environment and agent take a step and return\n",
        "                    # the reward, and action taken.\n",
        "                    num_steps += 1\n",
        "                    cum_reward += reward\n",
        "                    cum_reward_all[eps_idx][run][num_steps] = cum_reward\n",
        "\n",
        "    log_data['cum_reward_all'] = cum_reward_all\n",
        "    np.save(\"results/Dyna-Q_epsilons\", log_data)"
      ],
      "execution_count": 65,
      "outputs": []
    },
    {
      "cell_type": "code",
      "metadata": {
        "id": "CW04kKp-AMs2",
        "outputId": "1d4a6d49-b76a-491f-b0f1-76da5212c499",
        "colab": {
          "base_uri": "https://localhost:8080/",
          "height": 1000
        }
      },
      "source": [
        "# Do NOT modify the parameter settings.\n",
        "\n",
        "# Experiment parameters\n",
        "experiment_parameters = {\n",
        "    \"num_runs\" : 30,                     # The number of times we run the experiment\n",
        "    \"num_max_steps\" : 6000,              # The number of steps per experiment\n",
        "}\n",
        "\n",
        "# Environment parameters\n",
        "environment_parameters = { \n",
        "    \"discount\": 0.95,\n",
        "    \"change_at_n\": 3000\n",
        "}\n",
        "\n",
        "# Agent parameters\n",
        "agent_parameters = {  \n",
        "    \"num_states\" : 54,\n",
        "    \"num_actions\" : 4, \n",
        "    \"step_size\" : 0.125,\n",
        "    \"planning_steps\" : 10,\n",
        "    \"epsilons\": [0.1, 0.2, 0.4, 0.8]    # The list of epsilons we want to try\n",
        "}\n",
        "\n",
        "current_env = ShortcutMazeEnvironment   # The environment\n",
        "current_agent = DynaQAgent              # The agent\n",
        "\n",
        "run_experiment_only_cumulative_reward(current_env, current_agent, environment_parameters, agent_parameters, experiment_parameters)\n",
        "plot_cumulative_reward('results/Dyna-Q_epsilons.npy', 'epsilons', 'cum_reward_all', 'Cumulative\\nreward', r'$\\epsilon$ = ', r'Dyna-Q : Varying $\\epsilon$')"
      ],
      "execution_count": 66,
      "outputs": [
        {
          "output_type": "stream",
          "text": [
            "Agent : Dyna-Q, epsilon : 0.100000\n"
          ],
          "name": "stdout"
        },
        {
          "output_type": "stream",
          "text": [
            "\n",
            "  0%|          | 0/30 [00:00<?, ?it/s]\u001b[A\n",
            "  3%|▎         | 1/30 [00:03<01:27,  3.02s/it]\u001b[A\n",
            "  7%|▋         | 2/30 [00:05<01:18,  2.80s/it]\u001b[A\n",
            " 10%|█         | 3/30 [00:08<01:18,  2.90s/it]\u001b[A\n",
            " 13%|█▎        | 4/30 [00:11<01:13,  2.82s/it]\u001b[A\n",
            " 17%|█▋        | 5/30 [00:13<01:11,  2.84s/it]\u001b[A\n",
            " 20%|██        | 6/30 [00:16<01:07,  2.81s/it]\u001b[A\n",
            " 23%|██▎       | 7/30 [00:19<01:03,  2.75s/it]\u001b[A\n",
            " 27%|██▋       | 8/30 [00:22<01:02,  2.82s/it]\u001b[A\n",
            " 30%|███       | 9/30 [00:24<00:57,  2.72s/it]\u001b[A\n",
            " 33%|███▎      | 10/30 [00:27<00:55,  2.76s/it]\u001b[A\n",
            " 37%|███▋      | 11/30 [00:30<00:52,  2.76s/it]\u001b[A\n",
            " 40%|████      | 12/30 [00:33<00:49,  2.76s/it]\u001b[A\n",
            " 43%|████▎     | 13/30 [00:36<00:49,  2.90s/it]\u001b[A\n",
            " 47%|████▋     | 14/30 [00:39<00:47,  2.96s/it]\u001b[A\n",
            " 50%|█████     | 15/30 [00:42<00:44,  2.98s/it]\u001b[A\n",
            " 53%|█████▎    | 16/30 [00:44<00:39,  2.83s/it]\u001b[A\n",
            " 57%|█████▋    | 17/30 [00:47<00:35,  2.73s/it]\u001b[A\n",
            " 60%|██████    | 18/30 [00:49<00:31,  2.63s/it]\u001b[A\n",
            " 63%|██████▎   | 19/30 [00:52<00:27,  2.50s/it]\u001b[A\n",
            " 67%|██████▋   | 20/30 [00:54<00:25,  2.59s/it]\u001b[A\n",
            " 70%|███████   | 21/30 [00:57<00:24,  2.70s/it]\u001b[A\n",
            " 73%|███████▎  | 22/30 [01:00<00:21,  2.70s/it]\u001b[A\n",
            " 77%|███████▋  | 23/30 [01:02<00:18,  2.60s/it]\u001b[A\n",
            " 80%|████████  | 24/30 [01:05<00:15,  2.57s/it]\u001b[A\n",
            " 83%|████████▎ | 25/30 [01:08<00:13,  2.77s/it]\u001b[A\n",
            " 87%|████████▋ | 26/30 [01:11<00:11,  2.90s/it]\u001b[A\n",
            " 90%|█████████ | 27/30 [01:14<00:08,  2.89s/it]\u001b[A\n",
            " 93%|█████████▎| 28/30 [01:17<00:05,  2.87s/it]\u001b[A\n",
            " 97%|█████████▋| 29/30 [01:20<00:02,  2.96s/it]\u001b[A\n",
            "100%|██████████| 30/30 [01:23<00:00,  2.78s/it]\n"
          ],
          "name": "stderr"
        },
        {
          "output_type": "stream",
          "text": [
            "Agent : Dyna-Q, epsilon : 0.200000\n"
          ],
          "name": "stdout"
        },
        {
          "output_type": "stream",
          "text": [
            "\n",
            "  0%|          | 0/30 [00:00<?, ?it/s]\u001b[A\n",
            "  3%|▎         | 1/30 [00:02<01:18,  2.72s/it]\u001b[A\n",
            "  7%|▋         | 2/30 [00:05<01:17,  2.75s/it]\u001b[A\n",
            " 10%|█         | 3/30 [00:08<01:17,  2.85s/it]\u001b[A\n",
            " 13%|█▎        | 4/30 [00:11<01:15,  2.92s/it]\u001b[A\n",
            " 17%|█▋        | 5/30 [00:14<01:09,  2.79s/it]\u001b[A\n",
            " 20%|██        | 6/30 [00:17<01:10,  2.94s/it]\u001b[A\n",
            " 23%|██▎       | 7/30 [00:20<01:06,  2.91s/it]\u001b[A\n",
            " 27%|██▋       | 8/30 [00:23<01:02,  2.86s/it]\u001b[A\n",
            " 30%|███       | 9/30 [00:25<00:59,  2.81s/it]\u001b[A\n",
            " 33%|███▎      | 10/30 [00:28<00:55,  2.77s/it]\u001b[A\n",
            " 37%|███▋      | 11/30 [00:31<00:51,  2.71s/it]\u001b[A\n",
            " 40%|████      | 12/30 [00:34<00:50,  2.79s/it]\u001b[A\n",
            " 43%|████▎     | 13/30 [00:36<00:45,  2.67s/it]\u001b[A\n",
            " 47%|████▋     | 14/30 [00:39<00:42,  2.67s/it]\u001b[A\n",
            " 50%|█████     | 15/30 [00:41<00:40,  2.67s/it]\u001b[A\n",
            " 53%|█████▎    | 16/30 [00:44<00:38,  2.72s/it]\u001b[A\n",
            " 57%|█████▋    | 17/30 [00:47<00:35,  2.74s/it]\u001b[A\n",
            " 60%|██████    | 18/30 [00:50<00:33,  2.80s/it]\u001b[A\n",
            " 63%|██████▎   | 19/30 [00:53<00:32,  2.94s/it]\u001b[A\n",
            " 67%|██████▋   | 20/30 [00:56<00:28,  2.82s/it]\u001b[A\n",
            " 70%|███████   | 21/30 [00:58<00:24,  2.71s/it]\u001b[A\n",
            " 73%|███████▎  | 22/30 [01:01<00:22,  2.76s/it]\u001b[A\n",
            " 77%|███████▋  | 23/30 [01:03<00:18,  2.69s/it]\u001b[A\n",
            " 80%|████████  | 24/30 [01:06<00:15,  2.67s/it]\u001b[A\n",
            " 83%|████████▎ | 25/30 [01:09<00:14,  2.81s/it]\u001b[A\n",
            " 87%|████████▋ | 26/30 [01:12<00:11,  2.86s/it]\u001b[A\n",
            " 90%|█████████ | 27/30 [01:15<00:08,  2.89s/it]\u001b[A\n",
            " 93%|█████████▎| 28/30 [01:18<00:05,  2.76s/it]\u001b[A\n",
            " 97%|█████████▋| 29/30 [01:20<00:02,  2.72s/it]\u001b[A\n",
            "100%|██████████| 30/30 [01:23<00:00,  2.77s/it]\n"
          ],
          "name": "stderr"
        },
        {
          "output_type": "stream",
          "text": [
            "Agent : Dyna-Q, epsilon : 0.400000\n"
          ],
          "name": "stdout"
        },
        {
          "output_type": "stream",
          "text": [
            "\n",
            "  0%|          | 0/30 [00:00<?, ?it/s]\u001b[A\n",
            "  3%|▎         | 1/30 [00:02<01:23,  2.88s/it]\u001b[A\n",
            "  7%|▋         | 2/30 [00:05<01:20,  2.89s/it]\u001b[A\n",
            " 10%|█         | 3/30 [00:08<01:17,  2.87s/it]\u001b[A\n",
            " 13%|█▎        | 4/30 [00:10<01:07,  2.61s/it]\u001b[A\n",
            " 17%|█▋        | 5/30 [00:12<01:02,  2.50s/it]\u001b[A\n",
            " 20%|██        | 6/30 [00:15<01:00,  2.51s/it]\u001b[A\n",
            " 23%|██▎       | 7/30 [00:18<00:58,  2.56s/it]\u001b[A\n",
            " 27%|██▋       | 8/30 [00:21<00:59,  2.69s/it]\u001b[A\n",
            " 30%|███       | 9/30 [00:23<00:57,  2.74s/it]\u001b[A\n",
            " 33%|███▎      | 10/30 [00:27<00:57,  2.85s/it]\u001b[A\n",
            " 37%|███▋      | 11/30 [00:29<00:51,  2.70s/it]\u001b[A\n",
            " 40%|████      | 12/30 [00:32<00:49,  2.75s/it]\u001b[A\n",
            " 43%|████▎     | 13/30 [00:34<00:46,  2.75s/it]\u001b[A\n",
            " 47%|████▋     | 14/30 [00:38<00:45,  2.84s/it]\u001b[A\n",
            " 50%|█████     | 15/30 [00:40<00:40,  2.70s/it]\u001b[A\n",
            " 53%|█████▎    | 16/30 [00:43<00:38,  2.77s/it]\u001b[A\n",
            " 57%|█████▋    | 17/30 [00:46<00:35,  2.76s/it]\u001b[A\n",
            " 60%|██████    | 18/30 [00:48<00:32,  2.67s/it]\u001b[A\n",
            " 63%|██████▎   | 19/30 [00:50<00:28,  2.55s/it]\u001b[A\n",
            " 67%|██████▋   | 20/30 [00:53<00:27,  2.73s/it]\u001b[A\n",
            " 70%|███████   | 21/30 [00:56<00:23,  2.66s/it]\u001b[A\n",
            " 73%|███████▎  | 22/30 [00:58<00:20,  2.62s/it]\u001b[A\n",
            " 77%|███████▋  | 23/30 [01:01<00:18,  2.64s/it]\u001b[A\n",
            " 80%|████████  | 24/30 [01:04<00:15,  2.63s/it]\u001b[A\n",
            " 83%|████████▎ | 25/30 [01:07<00:13,  2.75s/it]\u001b[A\n",
            " 87%|████████▋ | 26/30 [01:10<00:11,  2.78s/it]\u001b[A\n",
            " 90%|█████████ | 27/30 [01:12<00:08,  2.73s/it]\u001b[A\n",
            " 93%|█████████▎| 28/30 [01:15<00:05,  2.67s/it]\u001b[A\n",
            " 97%|█████████▋| 29/30 [01:17<00:02,  2.63s/it]\u001b[A\n",
            "100%|██████████| 30/30 [01:20<00:00,  2.68s/it]\n"
          ],
          "name": "stderr"
        },
        {
          "output_type": "stream",
          "text": [
            "Agent : Dyna-Q, epsilon : 0.800000\n"
          ],
          "name": "stdout"
        },
        {
          "output_type": "stream",
          "text": [
            "\n",
            "  0%|          | 0/30 [00:00<?, ?it/s]\u001b[A\n",
            "  3%|▎         | 1/30 [00:03<01:34,  3.26s/it]\u001b[A\n",
            "  7%|▋         | 2/30 [00:05<01:26,  3.07s/it]\u001b[A\n",
            " 10%|█         | 3/30 [00:08<01:18,  2.89s/it]\u001b[A\n",
            " 13%|█▎        | 4/30 [00:11<01:13,  2.83s/it]\u001b[A\n",
            " 17%|█▋        | 5/30 [00:14<01:11,  2.87s/it]\u001b[A\n",
            " 20%|██        | 6/30 [00:16<01:08,  2.85s/it]\u001b[A\n",
            " 23%|██▎       | 7/30 [00:19<01:04,  2.80s/it]\u001b[A\n",
            " 27%|██▋       | 8/30 [00:22<01:02,  2.82s/it]\u001b[A\n",
            " 30%|███       | 9/30 [00:25<00:59,  2.81s/it]\u001b[A\n",
            " 33%|███▎      | 10/30 [00:27<00:53,  2.69s/it]\u001b[A\n",
            " 37%|███▋      | 11/30 [00:30<00:50,  2.67s/it]\u001b[A\n",
            " 40%|████      | 12/30 [00:32<00:47,  2.62s/it]\u001b[A\n",
            " 43%|████▎     | 13/30 [00:35<00:45,  2.68s/it]\u001b[A\n",
            " 47%|████▋     | 14/30 [00:38<00:42,  2.67s/it]\u001b[A\n",
            " 50%|█████     | 15/30 [00:40<00:38,  2.57s/it]\u001b[A\n",
            " 53%|█████▎    | 16/30 [00:43<00:38,  2.74s/it]\u001b[A\n",
            " 57%|█████▋    | 17/30 [00:46<00:35,  2.74s/it]\u001b[A\n",
            " 60%|██████    | 18/30 [00:49<00:32,  2.75s/it]\u001b[A\n",
            " 63%|██████▎   | 19/30 [00:52<00:30,  2.79s/it]\u001b[A\n",
            " 67%|██████▋   | 20/30 [00:54<00:27,  2.73s/it]\u001b[A\n",
            " 70%|███████   | 21/30 [00:57<00:26,  2.90s/it]\u001b[A\n",
            " 73%|███████▎  | 22/30 [01:00<00:23,  2.89s/it]\u001b[A\n",
            " 77%|███████▋  | 23/30 [01:03<00:20,  2.90s/it]\u001b[A\n",
            " 80%|████████  | 24/30 [01:06<00:16,  2.78s/it]\u001b[A\n",
            " 83%|████████▎ | 25/30 [01:08<00:13,  2.71s/it]\u001b[A\n",
            " 87%|████████▋ | 26/30 [01:11<00:10,  2.70s/it]\u001b[A\n",
            " 90%|█████████ | 27/30 [01:14<00:08,  2.70s/it]\u001b[A\n",
            " 93%|█████████▎| 28/30 [01:17<00:05,  2.94s/it]\u001b[A\n",
            " 97%|█████████▋| 29/30 [01:20<00:02,  2.83s/it]\u001b[A\n",
            "100%|██████████| 30/30 [01:23<00:00,  2.77s/it]\n"
          ],
          "name": "stderr"
        },
        {
          "output_type": "display_data",
          "data": {
            "image/png": "[encoded data removed]",
            "text/plain": [
              "<Figure size 432x288 with 1 Axes>"
            ]
          },
          "metadata": {
            "tags": [],
            "needs_background": "light"
          }
        }
      ]
    },
    {
      "cell_type": "markdown",
      "metadata": {
        "deletable": false,
        "editable": false,
        "nbgrader": {
          "checksum": "7587c4a396d64d011ff5d8cf0f755f43",
          "grade": false,
          "grade_id": "cell-75b928a3930343ef",
          "locked": true,
          "schema_version": 1,
          "solution": false
        },
        "id": "EI8qMYVLAMs3"
      },
      "source": [
        "What do you observe?\n",
        "\n",
        "Increasing the exploration via the $\\epsilon$-greedy strategy does not seem to be helping. In fact, the agent's cumulative reward decreases because it is spending more and more time trying out the exploratory actions.\n",
        "\n",
        "Can we do better...? "
      ]
    },
    {
      "cell_type": "markdown",
      "metadata": {
        "deletable": false,
        "editable": false,
        "nbgrader": {
          "checksum": "fea0fa31931e764395600778cacbde8d",
          "grade": false,
          "grade_id": "cell-53c7b261289030c7",
          "locked": true,
          "schema_version": 1,
          "solution": false
        },
        "id": "Q8yJVsiHAMs3"
      },
      "source": [
        "## Section 2: Dyna-Q+"
      ]
    },
    {
      "cell_type": "markdown",
      "metadata": {
        "deletable": false,
        "editable": false,
        "nbgrader": {
          "checksum": "c201b6bae38cb088c3c3cbc51810c914",
          "grade": false,
          "grade_id": "cell-1ed17a58ff98db6f",
          "locked": true,
          "schema_version": 1,
          "solution": false
        },
        "id": "3lU6LYntAMs3"
      },
      "source": [
        "The motivation behind Dyna-Q+ is to give a bonus reward for actions that haven't been tried for a long time, since there is a greater chance that the dynamics for that actions might have changed.\n",
        "\n",
        "In particular, if the modeled reward for a transition is $r$, and the transition has not been tried in $\\tau(s,a)$ time steps, then planning updates are done as if that transition produced a reward of $r + \\kappa \\sqrt{ \\tau(s,a)}$, for some small $\\kappa$. \n",
        "\n",
        "Let's implement that!\n",
        "\n",
        "Based on your `DynaQAgent`, create a new class `DynaQPlusAgent` to implement the aforementioned exploration heuristic. Additionally :\n",
        "1. actions that had never been tried before from a state should now be allowed to be considered in the planning step,\n",
        "2. and the initial model for such actions is that they lead back to the same state with a reward of zero.\n",
        "\n",
        "At this point, you might want to refer to the video lectures and [Section 8.3](http://www.incompleteideas.net/book/RLbook2018.pdf#page=188) of the RL textbook for a refresher on Dyna-Q+."
      ]
    },
    {
      "cell_type": "markdown",
      "metadata": {
        "deletable": false,
        "editable": false,
        "nbgrader": {
          "checksum": "ebbfc778eab63bdff736bc478ebc5928",
          "grade": false,
          "grade_id": "cell-ede9dc6883c45c67",
          "locked": true,
          "schema_version": 1,
          "solution": false
        },
        "id": "NMbYg9I9AMs4"
      },
      "source": [
        "As usual, let's break this down in pieces and do it one-by-one.\n",
        "\n",
        "First of all, check out the `agent_init` method below. In particular, pay attention to the attributes which are new to `DynaQPlusAgent`– state-visitation counts $\\tau$ and the scaling parameter $\\kappa$ – because you shall be using them later. "
      ]
    },
    {
      "cell_type": "code",
      "metadata": {
        "deletable": false,
        "editable": false,
        "nbgrader": {
          "checksum": "53479b7ba60db3596b74755d1319b574",
          "grade": false,
          "grade_id": "cell-45b5c95ae385f669",
          "locked": true,
          "schema_version": 1,
          "solution": false
        },
        "id": "AZF4hgFcAMs4"
      },
      "source": [
        "# Do not modify this cell!\n",
        "\n",
        "class DynaQPlusAgent(BaseAgent):\n",
        "    \n",
        "    def agent_init(self, agent_info):\n",
        "        \"\"\"Setup for the agent called when the experiment first starts.\n",
        "\n",
        "        Args:\n",
        "            agent_init_info (dict), the parameters used to initialize the agent. The dictionary contains:\n",
        "            {\n",
        "                num_states (int): The number of states,\n",
        "                num_actions (int): The number of actions,\n",
        "                epsilon (float): The parameter for epsilon-greedy exploration,\n",
        "                step_size (float): The step-size,\n",
        "                discount (float): The discount factor,\n",
        "                planning_steps (int): The number of planning steps per environmental interaction\n",
        "                kappa (float): The scaling factor for the reward bonus\n",
        "\n",
        "                random_seed (int): the seed for the RNG used in epsilon-greedy\n",
        "                planning_random_seed (int): the seed for the RNG used in the planner\n",
        "            }\n",
        "        \"\"\"\n",
        "\n",
        "        # First, we get the relevant information from agent_info \n",
        "        # Note: we use np.random.RandomState(seed) to set the two different RNGs\n",
        "        # for the planner and the rest of the code\n",
        "        try:\n",
        "            self.num_states = agent_info[\"num_states\"]\n",
        "            self.num_actions = agent_info[\"num_actions\"]\n",
        "        except:\n",
        "            print(\"You need to pass both 'num_states' and 'num_actions' \\\n",
        "                   in agent_info to initialize the action-value table\")\n",
        "        self.gamma = agent_info.get(\"discount\", 0.95)\n",
        "        self.step_size = agent_info.get(\"step_size\", 0.1)\n",
        "        self.epsilon = agent_info.get(\"epsilon\", 0.1)\n",
        "        self.planning_steps = agent_info.get(\"planning_steps\", 10)\n",
        "        self.kappa = agent_info.get(\"kappa\", 0.001)\n",
        "\n",
        "        self.rand_generator = np.random.RandomState(agent_info.get('random_seed', 42))\n",
        "        self.planning_rand_generator = np.random.RandomState(agent_info.get('planning_random_seed', 42))\n",
        "\n",
        "        # Next, we initialize the attributes required by the agent, e.g., q_values, model, tau, etc.\n",
        "        # The visitation-counts can be stored as a table as well, like the action values \n",
        "        self.q_values = np.zeros((self.num_states, self.num_actions))\n",
        "        self.tau = np.zeros((self.num_states, self.num_actions))\n",
        "        self.actions = list(range(self.num_actions))\n",
        "        self.past_action = -1\n",
        "        self.past_state = -1\n",
        "        self.model = {}"
      ],
      "execution_count": 67,
      "outputs": []
    },
    {
      "cell_type": "markdown",
      "metadata": {
        "deletable": false,
        "editable": false,
        "nbgrader": {
          "checksum": "ae86189d377dcbeb226bd8f01839be62",
          "grade": false,
          "grade_id": "cell-38c00ecba461bf92",
          "locked": true,
          "schema_version": 1,
          "solution": false
        },
        "id": "rGdgSBv5AMs4"
      },
      "source": [
        "Now first up, implement the `update_model` method. Note that this is different from Dyna-Q in the aforementioned way.\n"
      ]
    },
    {
      "cell_type": "code",
      "metadata": {
        "deletable": false,
        "nbgrader": {
          "checksum": "977dc282839bdb10b454c2ff698b58e6",
          "grade": false,
          "grade_id": "cell-b65a5bb0b37ceb84",
          "locked": false,
          "schema_version": 1,
          "solution": true
        },
        "id": "Qu00UZjwAMs4"
      },
      "source": [
        "%%add_to DynaQPlusAgent\n",
        "\n",
        "# [GRADED]\n",
        "\n",
        "def update_model(self, past_state, past_action, state, reward):\n",
        "    \"\"\"updates the model \n",
        "\n",
        "    Args:\n",
        "        past_state  (int): s\n",
        "        past_action (int): a\n",
        "        state       (int): s'\n",
        "        reward      (int): r\n",
        "    Returns:\n",
        "        Nothing\n",
        "    \"\"\"\n",
        "\n",
        "    # Recall that when adding a state-action to the model, if the agent is visiting the state\n",
        "    #    for the first time, then the remaining actions need to be added to the model as well\n",
        "    #    with zero reward and a transition into itself. Something like:\n",
        "    ##   for action in self.actions:\n",
        "    ##       if action != past_action:\n",
        "    ##           self.model[past_state][action] = (past_state, 0)  \n",
        "    #\n",
        "    # Note: do *not* update the visitation-counts here. We will do that in `agent_step`.\n",
        "    #\n",
        "    # (3 lines)\n",
        "\n",
        "    if past_state not in self.model:\n",
        "        self.model[past_state] = {past_action : (state, reward)}\n",
        "        ### START CODE HERE ###\n",
        "        for action in self.actions:\n",
        "            if action != past_action:\n",
        "                self.model[past_state][action] = (past_state, 0)\n",
        "        ### END CODE HERE ###\n",
        "    else:\n",
        "        self.model[past_state][past_action] = (state, reward)\n",
        "    "
      ],
      "execution_count": 68,
      "outputs": []
    },
    {
      "cell_type": "markdown",
      "metadata": {
        "deletable": false,
        "editable": false,
        "nbgrader": {
          "checksum": "b319274d17d4f236253245cbafc2f2c9",
          "grade": false,
          "grade_id": "cell-817a09952176290c",
          "locked": true,
          "schema_version": 1,
          "solution": false
        },
        "id": "jP8-jsuAAMs5"
      },
      "source": [
        "### Test `update_model()`"
      ]
    },
    {
      "cell_type": "code",
      "metadata": {
        "deletable": false,
        "editable": false,
        "nbgrader": {
          "checksum": "b51603111ba2020112cbdcc427c225b0",
          "grade": true,
          "grade_id": "DynaQPlus_update_model",
          "locked": true,
          "points": 5,
          "schema_version": 1,
          "solution": false
        },
        "id": "f-o8WKxjAMs5",
        "outputId": "d65bfaac-a278-4fa2-c378-cc01eb0a18ff",
        "colab": {
          "base_uri": "https://localhost:8080/"
        }
      },
      "source": [
        "# Do not modify this cell!\n",
        "\n",
        "## Test code for update_model() ##\n",
        "\n",
        "actions = []\n",
        "agent_info = {\"num_actions\": 4, \n",
        "              \"num_states\": 3, \n",
        "              \"epsilon\": 0.1, \n",
        "              \"step_size\": 0.1, \n",
        "              \"discount\": 1.0, \n",
        "              \"random_seed\": 0,\n",
        "              \"planning_random_seed\": 0}\n",
        "test_agent = DynaQPlusAgent()\n",
        "test_agent.agent_init(agent_info)\n",
        "test_agent.update_model(0,2,0,1)\n",
        "test_agent.update_model(2,0,1,1)\n",
        "test_agent.update_model(0,3,1,2)\n",
        "test_agent.tau[0][0] += 1\n",
        "print(\"Model: \\n\", test_agent.model)\n"
      ],
      "execution_count": 69,
      "outputs": [
        {
          "output_type": "stream",
          "text": [
            "Model: \n",
            " {0: {2: (0, 1), 0: (0, 0), 1: (0, 0), 3: (1, 2)}, 2: {0: (1, 1), 1: (2, 0), 2: (2, 0), 3: (2, 0)}}\n"
          ],
          "name": "stdout"
        }
      ]
    },
    {
      "cell_type": "markdown",
      "metadata": {
        "deletable": false,
        "editable": false,
        "nbgrader": {
          "checksum": "d5fac20afac86a10733c1eff19544eec",
          "grade": false,
          "grade_id": "cell-7d4bca62495646a5",
          "locked": true,
          "schema_version": 1,
          "solution": false
        },
        "id": "1qv8XAWTAMs5"
      },
      "source": [
        "Expected output:\n",
        "```\n",
        "Model: \n",
        " {0: {2: (0, 1), 0: (0, 0), 1: (0, 0), 3: (1, 2)}, 2: {0: (1, 1), 1: (2, 0), 2: (2, 0), 3: (2, 0)}}\n",
        "```\n",
        "Note that the actions that were not taken from a state are also added to the model, with a loop back into the same state with a reward of 0."
      ]
    },
    {
      "cell_type": "markdown",
      "metadata": {
        "deletable": false,
        "editable": false,
        "nbgrader": {
          "checksum": "a7bc69509a63b874bea41e9e1dacddeb",
          "grade": false,
          "grade_id": "cell-d16ba2244f70cccc",
          "locked": true,
          "schema_version": 1,
          "solution": false
        },
        "id": "3eCSsYNNAMs5"
      },
      "source": [
        "Next, you will implement the `planning_step()` method. This will be very similar to the one you implemented in `DynaQAgent`, but here you will be adding the exploration bonus to the reward in the simulated transition."
      ]
    },
    {
      "cell_type": "code",
      "metadata": {
        "deletable": false,
        "nbgrader": {
          "checksum": "0527e2f3bdd38392222bcaab60b86473",
          "grade": false,
          "grade_id": "cell-850b98235b2087aa",
          "locked": false,
          "schema_version": 1,
          "solution": true
        },
        "id": "i4_OWOSKAMs6"
      },
      "source": [
        "%%add_to DynaQPlusAgent\n",
        "\n",
        "# [GRADED]\n",
        "\n",
        "def planning_step(self):\n",
        "    \"\"\"performs planning, i.e. indirect RL.\n",
        "\n",
        "    Args:\n",
        "        None\n",
        "    Returns:\n",
        "        Nothing\n",
        "    \"\"\"\n",
        "    \n",
        "    # The indirect RL step:\n",
        "    # - Choose a state and action from the set of experiences that are stored in the model. (~2 lines)\n",
        "    # - Query the model with this state-action pair for the predicted next state and reward.(~1 line)\n",
        "    # - **Add the bonus to the reward** (~1 line)\n",
        "    # - Update the action values with this simulated experience.                            (2~4 lines)\n",
        "    # - Repeat for the required number of planning steps.\n",
        "    #\n",
        "    # Note that the update equation is different for terminal and non-terminal transitions. \n",
        "    # To differentiate between a terminal and a non-terminal next state, assume that the model stores\n",
        "    # the terminal state as a dummy state like -1\n",
        "    #\n",
        "    # Important: remember you have a random number generator 'planning_rand_generator' as \n",
        "    #     a part of the class which you need to use as self.planning_rand_generator.choice()\n",
        "    #     For the sake of reproducibility and grading, *do not* use anything else like \n",
        "    #     np.random.choice() for performing search control.\n",
        "\n",
        "    ### START CODE HERE ###\n",
        "    for i in range(self.planning_steps):\n",
        "        past_state = self.planning_rand_generator.choice(list(self.model.keys()))\n",
        "        past_action = self.planning_rand_generator.choice(list(self.model[past_state].keys()))\n",
        "        next_state, reward = self.model[past_state][past_action]\n",
        "        reward=reward+self.kappa*np.sqrt(self.tau[past_state][past_action])\n",
        "        if next_state == -1:\n",
        "            q_max = 0\n",
        "        else:\n",
        "            q_max = np.max(self.q_values[next_state])\n",
        "        self.q_values[past_state, past_action] += self.step_size * (reward + self.gamma * q_max - self.q_values[past_state, past_action])\n",
        "      \n",
        "    ### END CODE HERE ###"
      ],
      "execution_count": 72,
      "outputs": []
    },
    {
      "cell_type": "markdown",
      "metadata": {
        "deletable": false,
        "editable": false,
        "nbgrader": {
          "checksum": "d62d53a3b16a0a7fa4842f5775c442c2",
          "grade": false,
          "grade_id": "cell-f03c6dd8052fd06c",
          "locked": true,
          "schema_version": 1,
          "solution": false
        },
        "id": "En32M87jAMs6"
      },
      "source": [
        "### Test `planning_step()`"
      ]
    },
    {
      "cell_type": "code",
      "metadata": {
        "deletable": false,
        "editable": false,
        "nbgrader": {
          "checksum": "cdcaeef389cd61190d8c59f094144fbf",
          "grade": true,
          "grade_id": "DynaQPlus_planning_step",
          "locked": true,
          "points": 5,
          "schema_version": 1,
          "solution": false
        },
        "id": "qOK9D-xKAMs6",
        "outputId": "86ecb260-f6bc-4eb7-c270-71c66c899eb2",
        "colab": {
          "base_uri": "https://localhost:8080/"
        }
      },
      "source": [
        "# Do not modify this cell!\n",
        "\n",
        "## Test code for planning_step() ##\n",
        "\n",
        "actions = []\n",
        "agent_info = {\"num_actions\": 4, \n",
        "              \"num_states\": 3, \n",
        "              \"epsilon\": 0.1, \n",
        "              \"step_size\": 0.1, \n",
        "              \"discount\": 1.0, \n",
        "              \"kappa\": 0.001,\n",
        "              \"planning_steps\": 4,\n",
        "              \"random_seed\": 0,\n",
        "              \"planning_random_seed\": 1}\n",
        "test_agent = DynaQPlusAgent()\n",
        "test_agent.agent_init(agent_info)\n",
        "test_agent.update_model(0,1,-1,1)\n",
        "test_agent.tau += 1; test_agent.tau[0][1] = 0\n",
        "test_agent.update_model(0,2,1,1)\n",
        "test_agent.tau += 1; test_agent.tau[0][2] = 0    # Note that these counts are manually updated \n",
        "test_agent.update_model(2,0,1,1)                 #     as we'll code them in `agent_step'  \n",
        "test_agent.tau += 1; test_agent.tau[2][0] = 0    #     which hasn't been implemented yet.\n",
        "\n",
        "test_agent.planning_step()\n",
        "\n",
        "print(\"Model: \\n\", test_agent.model)\n",
        "print(\"Action-value estimates: \\n\", test_agent.q_values)\n"
      ],
      "execution_count": 73,
      "outputs": [
        {
          "output_type": "stream",
          "text": [
            "Model: \n",
            " {0: {1: (-1, 1), 0: (0, 0), 2: (1, 1), 3: (0, 0)}, 2: {0: (1, 1), 1: (2, 0), 2: (2, 0), 3: (2, 0)}}\n",
            "Action-value estimates: \n",
            " [[0.         0.10014142 0.         0.        ]\n",
            " [0.         0.         0.         0.        ]\n",
            " [0.         0.00036373 0.         0.00017321]]\n"
          ],
          "name": "stdout"
        }
      ]
    },
    {
      "cell_type": "markdown",
      "metadata": {
        "deletable": false,
        "editable": false,
        "nbgrader": {
          "checksum": "bc713c424acb265ebef08b7c5d2321e8",
          "grade": false,
          "grade_id": "cell-c624d442e2ae7d30",
          "locked": true,
          "schema_version": 1,
          "solution": false
        },
        "id": "rsQz0PG7AMs7"
      },
      "source": [
        "Expected output:\n",
        "```\n",
        "Model: \n",
        " {0: {1: (-1, 1), 0: (0, 0), 2: (1, 1), 3: (0, 0)}, 2: {0: (1, 1), 1: (2, 0), 2: (2, 0), 3: (2, 0)}}\n",
        "Action-value estimates: \n",
        " [[0.         0.10014142 0.         0.        ]\n",
        " [0.         0.         0.         0.        ]\n",
        " [0.         0.00036373 0.         0.00017321]]\n",
        "\n",
        "```"
      ]
    },
    {
      "cell_type": "markdown",
      "metadata": {
        "deletable": false,
        "editable": false,
        "nbgrader": {
          "checksum": "45628d99c845d3b4f280c006e697799d",
          "grade": false,
          "grade_id": "cell-92d49553185d7c50",
          "locked": true,
          "schema_version": 1,
          "solution": false
        },
        "id": "PnR9lyaZAMs7"
      },
      "source": [
        "Again, before you move on to implement the rest of the agent methods, here are the couple of helper functions that you've used in the previous assessments for choosing an action using an $\\epsilon$-greedy policy."
      ]
    },
    {
      "cell_type": "code",
      "metadata": {
        "deletable": false,
        "editable": false,
        "nbgrader": {
          "checksum": "4ae83584fd55c126c09c1c43173dcbaf",
          "grade": false,
          "grade_id": "cell-c31cab304f2230ae",
          "locked": true,
          "schema_version": 1,
          "solution": false
        },
        "id": "BId8uDfgAMs7"
      },
      "source": [
        "%%add_to DynaQPlusAgent\n",
        "\n",
        "# Do not modify this cell!\n",
        "\n",
        "def argmax(self, q_values):\n",
        "    \"\"\"argmax with random tie-breaking\n",
        "    Args:\n",
        "        q_values (Numpy array): the array of action values\n",
        "    Returns:\n",
        "        action (int): an action with the highest value\n",
        "    \"\"\"\n",
        "    top = float(\"-inf\")\n",
        "    ties = []\n",
        "\n",
        "    for i in range(len(q_values)):\n",
        "        if q_values[i] > top:\n",
        "            top = q_values[i]\n",
        "            ties = []\n",
        "\n",
        "        if q_values[i] == top:\n",
        "            ties.append(i)\n",
        "\n",
        "    return self.rand_generator.choice(ties)\n",
        "\n",
        "def choose_action_egreedy(self, state):\n",
        "    \"\"\"returns an action using an epsilon-greedy policy w.r.t. the current action-value function.\n",
        "\n",
        "    Important: assume you have a random number generator 'rand_generator' as a part of the class\n",
        "                which you can use as self.rand_generator.choice() or self.rand_generator.rand()\n",
        "\n",
        "    Args:\n",
        "        state (List): coordinates of the agent (two elements)\n",
        "    Returns:\n",
        "        The action taken w.r.t. the aforementioned epsilon-greedy policy\n",
        "    \"\"\"\n",
        "\n",
        "    if self.rand_generator.rand() < self.epsilon:\n",
        "        action = self.rand_generator.choice(self.actions)\n",
        "    else:\n",
        "        values = self.q_values[state]\n",
        "        action = self.argmax(values)\n",
        "\n",
        "    return action"
      ],
      "execution_count": 74,
      "outputs": []
    },
    {
      "cell_type": "markdown",
      "metadata": {
        "deletable": false,
        "editable": false,
        "nbgrader": {
          "checksum": "ff01d8dc7e39cfc84ff1e0799736d5a3",
          "grade": false,
          "grade_id": "cell-2af006f875c70cf7",
          "locked": true,
          "schema_version": 1,
          "solution": false
        },
        "id": "-Fyccfy8AMs8"
      },
      "source": [
        "Now implement the rest of the agent-related methods, namely `agent_start`, `agent_step`, and `agent_end`. Again, these will be very similar to the ones in the `DynaQAgent`, but you will have to think of a way to update the counts since the last visit."
      ]
    },
    {
      "cell_type": "code",
      "metadata": {
        "deletable": false,
        "nbgrader": {
          "checksum": "2dff5e0b57e00801566b5b83956a18d6",
          "grade": false,
          "grade_id": "cell-34cb21ba9a8f931c",
          "locked": false,
          "schema_version": 1,
          "solution": true
        },
        "id": "l9x-z4g3AMs8"
      },
      "source": [
        "%%add_to DynaQPlusAgent\n",
        "\n",
        "# [GRADED]\n",
        "    \n",
        "def agent_start(self, state):\n",
        "    \"\"\"The first method called when the experiment starts, called after\n",
        "    the environment starts.\n",
        "    Args:\n",
        "        state (Numpy array): the state from the\n",
        "            environment's env_start function.\n",
        "    Returns:\n",
        "        (int) The first action the agent takes.\n",
        "    \"\"\"\n",
        "    \n",
        "    # given the state, select the action using self.choose_action_egreedy(), \n",
        "    # and save current state and action (~2 lines)\n",
        "    ### self.past_state = ?\n",
        "    ### self.past_action = ?\n",
        "    # Note that the last-visit counts are not updated here.\n",
        "    \n",
        "    ### START CODE HERE ###\n",
        "    self.past_state=state\n",
        "    self.past_action=self.choose_action_egreedy(state)\n",
        "    ### END CODE HERE ###\n",
        "    \n",
        "    return self.past_action\n",
        "\n",
        "def agent_step(self, reward, state):\n",
        "    \"\"\"A step taken by the agent.\n",
        "    Args:\n",
        "        reward (float): the reward received for taking the last action taken\n",
        "        state (Numpy array): the state from the\n",
        "            environment's step based on where the agent ended up after the\n",
        "            last step\n",
        "    Returns:\n",
        "        (int) The action the agent is taking.\n",
        "    \"\"\"  \n",
        "    \n",
        "    # Update the last-visited counts (~2 lines)\n",
        "    # - Direct-RL step (1~3 lines)\n",
        "    # - Model Update step (~1 line)\n",
        "    # - `planning_step` (~1 line)\n",
        "    # - Action Selection step (~1 line)\n",
        "    # Save the current state and action before returning the action to be performed. (~2 lines)\n",
        "    \n",
        "    ### START CODE HERE ###\n",
        "    self.tau+=1\n",
        "    self.tau[self.past_state][self.past_action]=0\n",
        "    q_max=np.max(self.q_values[state])\n",
        "    self.q_values[self.past_state, self.past_action] += self.step_size * (reward + self.gamma * q_max - self.q_values[self.past_state, self.past_action])\n",
        "    self.update_model(self.past_state,self.past_action,state,reward)\n",
        "    self.planning_step()\n",
        "    \n",
        "    self.past_state=state\n",
        "    self.past_action=self.choose_action_egreedy(state)\n",
        "    ### END CODE HERE ###\n",
        "    \n",
        "    return self.past_action\n",
        "\n",
        "def agent_end(self, reward):\n",
        "    \"\"\"Called when the agent terminates.\n",
        "    Args:\n",
        "        reward (float): the reward the agent received for entering the\n",
        "            terminal state.\n",
        "    \"\"\"\n",
        "    # Again, add the same components you added in agent_step to augment Dyna-Q into Dyna-Q+\n",
        "    \n",
        "    ### START CODE HERE ###\n",
        "    self.tau+=1\n",
        "    self.tau[self.past_state][self.past_action]=0\n",
        "    self.q_values[self.past_state, self.past_action] += self.step_size * (reward - self.q_values[self.past_state, self.past_action])\n",
        "    self.update_model(self.past_state,self.past_action,-1,reward)\n",
        "    self.planning_step()\n",
        "    ### END CODE HERE ###"
      ],
      "execution_count": 82,
      "outputs": []
    },
    {
      "cell_type": "markdown",
      "metadata": {
        "deletable": false,
        "editable": false,
        "nbgrader": {
          "checksum": "0d0186afc16559c8d05fff29e5b91b50",
          "grade": false,
          "grade_id": "cell-da231fa8a614788e",
          "locked": true,
          "schema_version": 1,
          "solution": false
        },
        "id": "SiSbbe4CAMs9"
      },
      "source": [
        "Let's test these methods one-by-one."
      ]
    },
    {
      "cell_type": "markdown",
      "metadata": {
        "deletable": false,
        "editable": false,
        "nbgrader": {
          "checksum": "723356966ffc5fbeb16a6cd981071bbe",
          "grade": false,
          "grade_id": "cell-8db85fa89415ea0e",
          "locked": true,
          "schema_version": 1,
          "solution": false
        },
        "id": "ElLDLTviAMs9"
      },
      "source": [
        "### Test `agent_start()`"
      ]
    },
    {
      "cell_type": "code",
      "metadata": {
        "deletable": false,
        "editable": false,
        "nbgrader": {
          "checksum": "703e7137c1d55bd3649a2cabe18f6738",
          "grade": true,
          "grade_id": "DynaPlus_agent_start",
          "locked": true,
          "points": 5,
          "schema_version": 1,
          "solution": false
        },
        "id": "F83dckZLAMs9",
        "outputId": "217df7d8-5b27-44dd-e0f5-3a7f33bd6f0f",
        "colab": {
          "base_uri": "https://localhost:8080/"
        }
      },
      "source": [
        "# Do not modify this cell!\n",
        "\n",
        "## Test code for agent_start() ##\n",
        "\n",
        "agent_info = {\"num_actions\": 4, \n",
        "              \"num_states\": 3, \n",
        "              \"epsilon\": 0.1, \n",
        "              \"step_size\": 0.1, \n",
        "              \"discount\": 1.0,\n",
        "              \"kappa\": 0.001,\n",
        "              \"random_seed\": 0,\n",
        "              \"planning_random_seed\": 0}\n",
        "test_agent = DynaQPlusAgent()\n",
        "test_agent.agent_init(agent_info)\n",
        "action = test_agent.agent_start(0) # state\n",
        "print(\"Action:\", action)\n",
        "print(\"Timesteps since last visit: \\n\", test_agent.tau)\n",
        "print(\"Action-value estimates: \\n\", test_agent.q_values)\n",
        "print(\"Model: \\n\", test_agent.model)\n"
      ],
      "execution_count": 79,
      "outputs": [
        {
          "output_type": "stream",
          "text": [
            "Action: 1\n",
            "Timesteps since last visit: \n",
            " [[0. 0. 0. 0.]\n",
            " [0. 0. 0. 0.]\n",
            " [0. 0. 0. 0.]]\n",
            "Action-value estimates: \n",
            " [[0. 0. 0. 0.]\n",
            " [0. 0. 0. 0.]\n",
            " [0. 0. 0. 0.]]\n",
            "Model: \n",
            " {}\n"
          ],
          "name": "stdout"
        }
      ]
    },
    {
      "cell_type": "markdown",
      "metadata": {
        "deletable": false,
        "editable": false,
        "nbgrader": {
          "checksum": "ea8c3a78e11dd96c73d1d02933e0ec64",
          "grade": false,
          "grade_id": "cell-f6fb327707c1855c",
          "locked": true,
          "schema_version": 1,
          "solution": false
        },
        "id": "qnSsQx3lAMs9"
      },
      "source": [
        "Expected output:\n",
        "```\n",
        "Action: 1\n",
        "Timesteps since last visit: \n",
        " [[0. 0. 0. 0.]\n",
        " [0. 0. 0. 0.]\n",
        " [0. 0. 0. 0.]]\n",
        "Action-value estimates: \n",
        " [[0. 0. 0. 0.]\n",
        " [0. 0. 0. 0.]\n",
        " [0. 0. 0. 0.]]\n",
        "Model: \n",
        " {}\n",
        "```\n",
        "Remember the last-visit counts are not updated in `agent_start()`."
      ]
    },
    {
      "cell_type": "markdown",
      "metadata": {
        "deletable": false,
        "editable": false,
        "nbgrader": {
          "checksum": "28714342c4f7fec008e01c525e98d2a6",
          "grade": false,
          "grade_id": "cell-be8fc718581879ad",
          "locked": true,
          "schema_version": 1,
          "solution": false
        },
        "id": "slfxx_UrAMs-"
      },
      "source": [
        "### Test `agent_step()`"
      ]
    },
    {
      "cell_type": "code",
      "metadata": {
        "deletable": false,
        "editable": false,
        "nbgrader": {
          "checksum": "1ebd676152a198dc5e4e009198c36aee",
          "grade": true,
          "grade_id": "DynaQPlus_agent_step",
          "locked": true,
          "points": 5,
          "schema_version": 1,
          "solution": false
        },
        "id": "WpNPS4Z4AMs-",
        "outputId": "ee7b9e08-dff7-40a9-db30-f8ba864b617c",
        "colab": {
          "base_uri": "https://localhost:8080/"
        }
      },
      "source": [
        "# Do not modify this cell!\n",
        "\n",
        "## Test code for agent_step() ##\n",
        "\n",
        "agent_info = {\"num_actions\": 4, \n",
        "              \"num_states\": 3, \n",
        "              \"epsilon\": 0.1, \n",
        "              \"step_size\": 0.1, \n",
        "              \"discount\": 1.0,\n",
        "              \"kappa\": 0.001,\n",
        "              \"planning_steps\": 4,\n",
        "              \"random_seed\": 0,\n",
        "              \"planning_random_seed\": 0}\n",
        "test_agent = DynaQPlusAgent()\n",
        "test_agent.agent_init(agent_info)\n",
        "actions = []\n",
        "actions.append(test_agent.agent_start(0))    # state\n",
        "actions.append(test_agent.agent_step(1,2))   # (reward, state)\n",
        "actions.append(test_agent.agent_step(0,1))   # (reward, state)\n",
        "print(\"Actions:\", actions)\n",
        "print(\"Timesteps since last visit: \\n\", test_agent.tau)\n",
        "print(\"Action-value estimates: \\n\", test_agent.q_values)\n",
        "print(\"Model: \\n\", test_agent.model)\n"
      ],
      "execution_count": 80,
      "outputs": [
        {
          "output_type": "stream",
          "text": [
            "Actions: [1, 3, 1]\n",
            "Timesteps since last visit: \n",
            " [[2. 1. 2. 2.]\n",
            " [2. 2. 2. 2.]\n",
            " [2. 2. 2. 0.]]\n",
            "Action-value estimates: \n",
            " [[1.91000000e-02 2.71000000e-01 0.00000000e+00 1.91000000e-02]\n",
            " [0.00000000e+00 0.00000000e+00 0.00000000e+00 0.00000000e+00]\n",
            " [0.00000000e+00 1.83847763e-04 4.24264069e-04 0.00000000e+00]]\n",
            "Model: \n",
            " {0: {1: (2, 1), 0: (0, 0), 2: (0, 0), 3: (0, 0)}, 2: {3: (1, 0), 0: (2, 0), 1: (2, 0), 2: (2, 0)}}\n"
          ],
          "name": "stdout"
        }
      ]
    },
    {
      "cell_type": "markdown",
      "metadata": {
        "deletable": false,
        "editable": false,
        "nbgrader": {
          "checksum": "b7f7f472dbae4f04ab045f9070443158",
          "grade": false,
          "grade_id": "cell-6cd0bcf30529fcca",
          "locked": true,
          "schema_version": 1,
          "solution": false
        },
        "id": "f3PwUCxFAMs-"
      },
      "source": [
        "Expected output:\n",
        "```\n",
        "Actions: [1, 3, 1]\n",
        "Timesteps since last visit: \n",
        " [[2. 1. 2. 2.]\n",
        " [2. 2. 2. 2.]\n",
        " [2. 2. 2. 0.]]\n",
        "Action-value estimates: \n",
        " [[1.91000000e-02 2.71000000e-01 0.00000000e+00 1.91000000e-02]\n",
        " [0.00000000e+00 0.00000000e+00 0.00000000e+00 0.00000000e+00]\n",
        " [0.00000000e+00 1.83847763e-04 4.24264069e-04 0.00000000e+00]]\n",
        "Model: \n",
        " {0: {1: (2, 1), 0: (0, 0), 2: (0, 0), 3: (0, 0)}, 2: {3: (1, 0), 0: (2, 0), 1: (2, 0), 2: (2, 0)}}\n",
        "```"
      ]
    },
    {
      "cell_type": "markdown",
      "metadata": {
        "deletable": false,
        "editable": false,
        "nbgrader": {
          "checksum": "069707871b3203dcaf81c9081726455b",
          "grade": false,
          "grade_id": "cell-ffbeb161866707da",
          "locked": true,
          "schema_version": 1,
          "solution": false
        },
        "id": "QC9SxsRaAMs-"
      },
      "source": [
        "### Test `agent_end()`"
      ]
    },
    {
      "cell_type": "code",
      "metadata": {
        "deletable": false,
        "editable": false,
        "nbgrader": {
          "checksum": "cfdf00092d97d6e9ac98447202a6d292",
          "grade": true,
          "grade_id": "DynaQPlus_agent_end",
          "locked": true,
          "points": 5,
          "schema_version": 1,
          "solution": false
        },
        "id": "kPJLq_TjAMs_",
        "outputId": "b9c809e9-cb8d-4cf3-9bc6-82a7d16f379f",
        "colab": {
          "base_uri": "https://localhost:8080/"
        }
      },
      "source": [
        "# Do not modify this cell!\n",
        "\n",
        "## Test code for agent_end() ##\n",
        "\n",
        "agent_info = {\"num_actions\": 4, \n",
        "              \"num_states\": 3, \n",
        "              \"epsilon\": 0.1, \n",
        "              \"step_size\": 0.1, \n",
        "              \"discount\": 1.0,\n",
        "              \"kappa\": 0.001,\n",
        "              \"planning_steps\": 4,\n",
        "              \"random_seed\": 0,\n",
        "              \"planning_random_seed\": 0}\n",
        "test_agent = DynaQPlusAgent()\n",
        "test_agent.agent_init(agent_info)\n",
        "actions = []\n",
        "actions.append(test_agent.agent_start(0))\n",
        "actions.append(test_agent.agent_step(1,2))\n",
        "actions.append(test_agent.agent_step(0,1))\n",
        "test_agent.agent_end(1)\n",
        "print(\"Actions:\", actions)\n",
        "print(\"Timesteps since last visit: \\n\", test_agent.tau)\n",
        "print(\"Action-value estimates: \\n\", test_agent.q_values)\n",
        "print(\"Model: \\n\", test_agent.model)\n"
      ],
      "execution_count": 83,
      "outputs": [
        {
          "output_type": "stream",
          "text": [
            "Actions: [1, 3, 1]\n",
            "Timesteps since last visit: \n",
            " [[3. 2. 3. 3.]\n",
            " [3. 0. 3. 3.]\n",
            " [3. 3. 3. 1.]]\n",
            "Action-value estimates: \n",
            " [[1.91000000e-02 3.44083848e-01 0.00000000e+00 4.44632051e-02]\n",
            " [1.91732051e-02 1.90000000e-01 0.00000000e+00 0.00000000e+00]\n",
            " [0.00000000e+00 1.83847763e-04 4.24264069e-04 0.00000000e+00]]\n",
            "Model: \n",
            " {0: {1: (2, 1), 0: (0, 0), 2: (0, 0), 3: (0, 0)}, 2: {3: (1, 0), 0: (2, 0), 1: (2, 0), 2: (2, 0)}, 1: {1: (-1, 1), 0: (1, 0), 2: (1, 0), 3: (1, 0)}}\n"
          ],
          "name": "stdout"
        }
      ]
    },
    {
      "cell_type": "markdown",
      "metadata": {
        "deletable": false,
        "editable": false,
        "nbgrader": {
          "checksum": "c008b44213589da78abaf90a07ebb93e",
          "grade": false,
          "grade_id": "cell-e4831f4d1cf10b12",
          "locked": true,
          "schema_version": 1,
          "solution": false
        },
        "id": "gtP8PQAHAMs_"
      },
      "source": [
        "Expected output:\n",
        "```\n",
        "Actions: [1, 3, 1]\n",
        "Timesteps since last visit: \n",
        " [[3. 2. 3. 3.]\n",
        " [3. 0. 3. 3.]\n",
        " [3. 3. 3. 1.]]\n",
        "Action-value estimates: \n",
        " [[1.91000000e-02 3.44083848e-01 0.00000000e+00 4.44632051e-02]\n",
        " [1.91732051e-02 1.90000000e-01 0.00000000e+00 0.00000000e+00]\n",
        " [0.00000000e+00 1.83847763e-04 4.24264069e-04 0.00000000e+00]]\n",
        "Model: \n",
        " {0: {1: (2, 1), 0: (0, 0), 2: (0, 0), 3: (0, 0)}, 2: {3: (1, 0), 0: (2, 0), 1: (2, 0), 2: (2, 0)}, 1: {1: (-1, 1), 0: (1, 0), 2: (1, 0), 3: (1, 0)}}\n",
        " ```"
      ]
    },
    {
      "cell_type": "markdown",
      "metadata": {
        "deletable": false,
        "editable": false,
        "nbgrader": {
          "checksum": "334f1ceca4ab090a3e1ec653e3b496c2",
          "grade": false,
          "grade_id": "cell-839b7e5d8b7c439f",
          "locked": true,
          "schema_version": 1,
          "solution": false
        },
        "id": "ivegFlUAAMs_"
      },
      "source": [
        "### Experiment: Dyna-Q+ agent in the _changing_ environment\n",
        "\n",
        "Okay, now we're ready to test our Dyna-Q+ agent on the Shortcut Maze. As usual, we will average the results over 30 independent runs of the experiment."
      ]
    },
    {
      "cell_type": "code",
      "metadata": {
        "id": "oxj6UesTAMtA",
        "outputId": "f8516df5-5de4-4baa-ec50-502a234a8f93",
        "colab": {
          "base_uri": "https://localhost:8080/"
        }
      },
      "source": [
        "# Do NOT modify the parameter settings.\n",
        "\n",
        "# Experiment parameters\n",
        "experiment_parameters = {\n",
        "    \"num_runs\" : 30,                     # The number of times we run the experiment\n",
        "    \"num_max_steps\" : 6000,              # The number of steps per experiment\n",
        "}\n",
        "\n",
        "# Environment parameters\n",
        "environment_parameters = { \n",
        "    \"discount\": 0.95,\n",
        "    \"change_at_n\": 3000\n",
        "}\n",
        "\n",
        "# Agent parameters\n",
        "agent_parameters = {  \n",
        "    \"num_states\" : 54,\n",
        "    \"num_actions\" : 4, \n",
        "    \"epsilon\": 0.1, \n",
        "    \"step_size\" : 0.5,\n",
        "    \"planning_steps\" : [50]      \n",
        "}\n",
        "\n",
        "current_env = ShortcutMazeEnvironment   # The environment\n",
        "current_agent = DynaQPlusAgent          # The agent\n",
        "\n",
        "run_experiment_with_state_visitations(current_env, current_agent, environment_parameters, agent_parameters, experiment_parameters, \"Dyna-Q+\")\n",
        "shutil.make_archive('results', 'zip', 'results');"
      ],
      "execution_count": 84,
      "outputs": [
        {
          "output_type": "stream",
          "text": [
            "Planning steps :  50\n"
          ],
          "name": "stdout"
        },
        {
          "output_type": "stream",
          "text": [
            "\n",
            "  0%|          | 0/30 [00:00<?, ?it/s]\u001b[A\n",
            "  3%|▎         | 1/30 [00:14<06:55, 14.32s/it]\u001b[A\n",
            "  7%|▋         | 2/30 [00:30<06:55, 14.82s/it]\u001b[A\n",
            " 10%|█         | 3/30 [00:45<06:40, 14.83s/it]\u001b[A\n",
            " 13%|█▎        | 4/30 [00:59<06:22, 14.73s/it]\u001b[A\n",
            " 17%|█▋        | 5/30 [01:14<06:12, 14.91s/it]\u001b[A\n",
            " 20%|██        | 6/30 [01:29<05:54, 14.79s/it]\u001b[A\n",
            " 23%|██▎       | 7/30 [01:43<05:37, 14.67s/it]\u001b[A\n",
            " 27%|██▋       | 8/30 [01:59<05:27, 14.90s/it]\u001b[A\n",
            " 30%|███       | 9/30 [02:14<05:11, 14.84s/it]\u001b[A\n",
            " 33%|███▎      | 10/30 [02:28<04:56, 14.84s/it]\u001b[A\n",
            " 37%|███▋      | 11/30 [02:44<04:47, 15.14s/it]\u001b[A\n",
            " 40%|████      | 12/30 [02:59<04:29, 14.98s/it]\u001b[A\n",
            " 43%|████▎     | 13/30 [03:15<04:18, 15.22s/it]\u001b[A\n",
            " 47%|████▋     | 14/30 [03:30<04:02, 15.18s/it]\u001b[A\n",
            " 50%|█████     | 15/30 [03:45<03:46, 15.13s/it]\u001b[A\n",
            " 53%|█████▎    | 16/30 [04:00<03:31, 15.11s/it]\u001b[A\n",
            " 57%|█████▋    | 17/30 [04:14<03:14, 14.99s/it]\u001b[A\n",
            " 60%|██████    | 18/30 [04:29<02:58, 14.86s/it]\u001b[A\n",
            " 63%|██████▎   | 19/30 [04:44<02:45, 15.02s/it]\u001b[A\n",
            " 67%|██████▋   | 20/30 [04:59<02:30, 15.00s/it]\u001b[A\n",
            " 70%|███████   | 21/30 [05:15<02:16, 15.17s/it]\u001b[A\n",
            " 73%|███████▎  | 22/30 [05:31<02:02, 15.33s/it]\u001b[A\n",
            " 77%|███████▋  | 23/30 [05:46<01:46, 15.26s/it]\u001b[A\n",
            " 80%|████████  | 24/30 [06:00<01:30, 15.02s/it]\u001b[A\n",
            " 83%|████████▎ | 25/30 [06:14<01:13, 14.74s/it]\u001b[A\n",
            " 87%|████████▋ | 26/30 [06:30<00:59, 14.98s/it]\u001b[A\n",
            " 90%|█████████ | 27/30 [06:45<00:45, 15.17s/it]\u001b[A\n",
            " 93%|█████████▎| 28/30 [07:00<00:29, 14.94s/it]\u001b[A\n",
            " 97%|█████████▋| 29/30 [07:15<00:15, 15.05s/it]\u001b[A\n",
            "100%|██████████| 30/30 [07:30<00:00, 15.02s/it]\n"
          ],
          "name": "stderr"
        }
      ]
    },
    {
      "cell_type": "markdown",
      "metadata": {
        "deletable": false,
        "editable": false,
        "nbgrader": {
          "checksum": "0aae91605b0be56ef43e821b1719bfbf",
          "grade": false,
          "grade_id": "cell-d1f8fd21d4357f1a",
          "locked": true,
          "schema_version": 1,
          "solution": false
        },
        "id": "sYJVXah9AMtA"
      },
      "source": [
        "Let's compare the Dyna-Q and Dyna-Q+ agents with `planning_steps=50` each."
      ]
    },
    {
      "cell_type": "code",
      "metadata": {
        "deletable": false,
        "editable": false,
        "nbgrader": {
          "checksum": "d35e2a4111ca0d5f4baf83885e537139",
          "grade": false,
          "grade_id": "cell-ceee2185289f571c",
          "locked": true,
          "schema_version": 1,
          "solution": false
        },
        "id": "nbmf3fsNAMtA"
      },
      "source": [
        "# Do not modify this cell!\n",
        "\n",
        "def plot_cumulative_reward_comparison(file_name_dynaq, file_name_dynaqplus):\n",
        "\n",
        "    cum_reward_q = np.load(file_name_dynaq,allow_pickle=True).item()['cum_reward_all'][2]\n",
        "    cum_reward_qPlus = np.load(file_name_dynaqplus,allow_pickle=True).item()['cum_reward_all'][0]\n",
        "\n",
        "    plt.plot(np.mean(cum_reward_qPlus, axis=0), label='Dyna-Q+')\n",
        "    plt.plot(np.mean(cum_reward_q, axis=0), label='Dyna-Q')\n",
        "\n",
        "    plt.axvline(x=3000, linestyle='--', color='grey', alpha=0.4)\n",
        "    plt.xlabel('Timesteps')\n",
        "    plt.ylabel('Cumulative\\nreward', rotation=0, labelpad=60)\n",
        "    plt.legend(loc='upper left')\n",
        "    plt.title('Average performance of Dyna-Q and Dyna-Q+ agents in the Shortcut Maze\\n')\n",
        "    plt.show()"
      ],
      "execution_count": 89,
      "outputs": []
    },
    {
      "cell_type": "code",
      "metadata": {
        "id": "-AZOaMQ_AMtA",
        "outputId": "1995eb88-25cc-416c-b31c-fd2cf0b990ee",
        "colab": {
          "base_uri": "https://localhost:8080/",
          "height": 310
        }
      },
      "source": [
        "# Do not modify this cell!\n",
        "\n",
        "plot_cumulative_reward_comparison('results/Dyna-Q_shortcut_steps.npy', 'results/Dyna-Q+.npy')"
      ],
      "execution_count": 90,
      "outputs": [
        {
          "output_type": "display_data",
          "data": {
            "image/png": "[encoded data removed]",
            "text/plain": [
              "<Figure size 432x288 with 1 Axes>"
            ]
          },
          "metadata": {
            "tags": [],
            "needs_background": "light"
          }
        }
      ]
    },
    {
      "cell_type": "markdown",
      "metadata": {
        "deletable": false,
        "editable": false,
        "nbgrader": {
          "checksum": "21076543e2048b8680e6e0aef7fe3eb8",
          "grade": false,
          "grade_id": "cell-1754be7eabd4a8aa",
          "locked": true,
          "schema_version": 1,
          "solution": false
        },
        "id": "L4t8WQhQAMtB"
      },
      "source": [
        "What do you observe? (For reference, your graph should look like [Figure 8.5 in Chapter 8](http://www.incompleteideas.net/book/RLbook2018.pdf#page=189) of the RL textbook)\n",
        "\n",
        "The slope of the curve increases for the Dyna-Q+ curve shortly after the shortcut opens up after 3000 steps, which indicates that the rate of receiving the positive reward increases. This implies that the Dyna-Q+ agent finds the shorter path to the goal.\n",
        "\n",
        "To verify this, let us plot the state-visitations of the Dyna-Q+ agent before and after the shortcut opens up."
      ]
    },
    {
      "cell_type": "code",
      "metadata": {
        "id": "3ma3jrl1AMtB",
        "outputId": "126cc7c5-31a5-4a77-b0f3-9e74f3f16c7e",
        "colab": {
          "base_uri": "https://localhost:8080/",
          "height": 335
        }
      },
      "source": [
        "# Do not modify this cell!\n",
        "\n",
        "plot_state_visitations(\"results/Dyna-Q+.npy\", ['Dyna-Q+ : State visitations before the env changes', 'Dyna-Q+ : State visitations after the env changes'], 0)"
      ],
      "execution_count": 91,
      "outputs": [
        {
          "output_type": "display_data",
          "data": {
            "image/png": "[encoded data removed]",
            "text/plain": [
              "<Figure size 432x288 with 3 Axes>"
            ]
          },
          "metadata": {
            "tags": [],
            "needs_background": "light"
          }
        }
      ]
    },
    {
      "cell_type": "markdown",
      "metadata": {
        "deletable": false,
        "editable": false,
        "nbgrader": {
          "checksum": "449ce5338414248561fc1c8219cc3792",
          "grade": false,
          "grade_id": "cell-fafb7f5a25d136fb",
          "locked": true,
          "schema_version": 1,
          "solution": false
        },
        "id": "e5Pg9JW1AMtB"
      },
      "source": [
        "What do you observe?\n",
        "\n",
        "Before the shortcut opens up, like Dyna-Q, the Dyna-Q+ agent finds the sole, long path to the goal. But because the Dyna-Q+ agent keeps exploring, it succeeds in discovering the shortcut once it opens up, which leads to the goal faster. So the bonus reward heuristic is effective in helping the agent explore and find changes in the environment without degrading the performance. "
      ]
    },
    {
      "cell_type": "markdown",
      "metadata": {
        "deletable": false,
        "editable": false,
        "nbgrader": {
          "checksum": "29cd9402feeb69c6d64d8ae08c9aa201",
          "grade": false,
          "grade_id": "cell-89485f6ff67b4a48",
          "locked": true,
          "schema_version": 1,
          "solution": false
        },
        "id": "K3b1mxWUAMtC"
      },
      "source": [
        "## Wrapping Up\n",
        "\n",
        "Congratulations! You have:\n",
        "\n",
        "1. implemented Dyna-Q, a model-based approach to RL;\n",
        "2. implemented Dyna-Q+, a variant of Dyna-Q with an exploration bonus that encourages exploration; \n",
        "3. conducted scientific experiments to empirically validate the exploration/exploitation dilemma in the planning context on an environment that changes with time."
      ]
    },
    {
      "cell_type": "markdown",
      "metadata": {
        "deletable": false,
        "editable": false,
        "nbgrader": {
          "checksum": "bdccc04273c6aadc27991c28fb2065e9",
          "grade": false,
          "grade_id": "cell-5ff77de3e5722637",
          "locked": true,
          "schema_version": 1,
          "solution": false
        },
        "id": "BeksDCZXAMtC"
      },
      "source": [
        "Some points to ponder about:\n",
        "1. At what cost does Dyna-Q+ improve over Dyna-Q?\n",
        "2. In general, what is the trade-off of using model-based methods like Dyna-Q over model-free methods like Q-learning?\n",
        "\n",
        "\n",
        "---\n",
        "\n",
        "**Note**: Apart from using the 'Submit' button in the notebook, you have to submit an additional `zip` file containing the 'npy' files that were generated from running the experiment cells. To do so:\n",
        "\n",
        "1. Generate the zip file by running the experiment cells in the notebook. On the top of the notebook, navigate to 'File->Open' to open the directory view of this assignment. Select \"results.zip\" and click on \"Download\". Alternatively, you can download just the results folder and run \"zip -jr results.zip results/\" (_The flag 'j' is required by the grader!_).\n",
        "2. Go to the \"My submission\" tab and click on \"+ Create submission\".\n",
        "3. Click on \"C2M4 Data-file Grader\" and upload your `results.zip`.\n",
        "\n",
        "**This accounts for 50% of the marks, so don't forget to do so!**"
      ]
    }
  ]
}