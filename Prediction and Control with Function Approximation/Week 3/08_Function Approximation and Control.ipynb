{
  "nbformat": 4,
  "nbformat_minor": 0,
  "metadata": {
    "@webio": {
      "lastCommId": null,
      "lastKernelId": null
    },
    "coursera": {
      "course_slug": "prediction-control-function-approximation",
      "graded_item_id": "N1YGC",
      "launcher_item_id": "UJo5o"
    },
    "kernelspec": {
      "display_name": "Python 3",
      "language": "python",
      "name": "python3"
    },
    "language_info": {
      "codemirror_mode": {
        "name": "ipython",
        "version": 3
      },
      "file_extension": ".py",
      "mimetype": "text/x-python",
      "name": "python",
      "nbconvert_exporter": "python",
      "pygments_lexer": "ipython3",
      "version": "3.7.1"
    },
    "colab": {
      "name": "08_Function Approximation and Control.ipynb",
      "provenance": [],
      "include_colab_link": true
    }
  },
  "cells": [
    {
      "cell_type": "markdown",
      "metadata": {
        "id": "view-in-github",
        "colab_type": "text"
      },
      "source": [
        "<a href=\"https://colab.research.google.com/github/grvk02/Reinfo_learning/blob/master/Prediction%20and%20Control%20with%20Function%20Approximation/Week%203/08_Function%20Approximation%20and%20Control.ipynb\" target=\"_parent\"><img src=\"https://colab.research.google.com/assets/colab-badge.svg\" alt=\"Open In Colab\"/></a>"
      ]
    },
    {
      "cell_type": "markdown",
      "metadata": {
        "deletable": false,
        "editable": false,
        "nbgrader": {
          "checksum": "bfeb29c19452c8f782e787e746422cae",
          "grade": false,
          "grade_id": "cell-6e2d08d53786c408",
          "locked": true,
          "schema_version": 1,
          "solution": false
        },
        "id": "5chzI1t2Qp4M"
      },
      "source": [
        "# Assignment 3: Function Approximation and Control"
      ]
    },
    {
      "cell_type": "markdown",
      "metadata": {
        "deletable": false,
        "editable": false,
        "nbgrader": {
          "checksum": "bc8f8a3eff0506f5f2adbb15d865a6f8",
          "grade": false,
          "grade_id": "cell-c0aa3738f85c68a6",
          "locked": true,
          "schema_version": 1,
          "solution": false
        },
        "id": "ODLOs1tqQp4P"
      },
      "source": [
        "Welcome to Assignment 3. In this notebook you will learn how to:\n",
        "- Use function approximation in the control setting\n",
        "- Implement the Sarsa algorithm using tile coding\n",
        "- Compare three settings for tile coding to see their effect on our agent\n",
        "\n",
        "As with the rest of the notebooks do not import additional libraries or adjust grading cells as this will break the grader.\n",
        "\n",
        "MAKE SURE TO RUN ALL OF THE CELLS SO THE GRADER GETS THE OUTPUT IT NEEDS\n"
      ]
    },
    {
      "cell_type": "code",
      "metadata": {
        "deletable": false,
        "editable": false,
        "nbgrader": {
          "checksum": "9d89a1172d798eea73c3f94e84b19a80",
          "grade": false,
          "grade_id": "cell-3e99c32936b1780b",
          "locked": true,
          "schema_version": 1,
          "solution": false
        },
        "id": "2iAb_n0IQp4R"
      },
      "source": [
        "# Import Necessary Libraries\n",
        "import numpy as np\n",
        "import matplotlib.pyplot as plt\n",
        "import tiles3 as tc\n",
        "from rl_glue import RLGlue\n",
        "from agent import BaseAgent\n",
        "from utils import argmax\n",
        "import mountaincar_env\n",
        "import time"
      ],
      "execution_count": 2,
      "outputs": []
    },
    {
      "cell_type": "markdown",
      "metadata": {
        "deletable": false,
        "editable": false,
        "nbgrader": {
          "checksum": "b4b89842d59f53a0397404188fea8a68",
          "grade": false,
          "grade_id": "cell-0c184d76dab0d615",
          "locked": true,
          "schema_version": 1,
          "solution": false
        },
        "id": "6rzsQNyCQp4S"
      },
      "source": [
        "In the above cell, we import the libraries we need for this assignment. You may have noticed that we import mountaincar_env. This is the __Mountain Car Task__ introduced in [Section 10.1 of the textbook](http://www.incompleteideas.net/book/RLbook2018.pdf#page=267). The task is for an under powered car to make it to the top of a hill:\n",
        "![Mountain Car](mountaincar.png \"Mountain Car\")\n",
        "The car is under-powered so the agent needs to learn to rock back and forth to get enough momentum to reach the goal. At each time step the agent receives from the environment its current velocity (a float between -0.07 and 0.07), and it's current position (a float between -1.2 and 0.5). Because our state is continuous there are a potentially infinite number of states that our agent could be in. We need a function approximation method to help the agent deal with this. In this notebook we will use tile coding. We provide a tile coding implementation for you to use, imported above with tiles3."
      ]
    },
    {
      "cell_type": "markdown",
      "metadata": {
        "deletable": false,
        "editable": false,
        "nbgrader": {
          "checksum": "ec2c6de4858e1844bbba0fb965fb1697",
          "grade": false,
          "grade_id": "cell-abeb1cf4c7319766",
          "locked": true,
          "schema_version": 1,
          "solution": false
        },
        "id": "XoY01EcbQp4T"
      },
      "source": [
        "## Section 0: Tile Coding Helper Function"
      ]
    },
    {
      "cell_type": "markdown",
      "metadata": {
        "deletable": false,
        "editable": false,
        "nbgrader": {
          "checksum": "9948acdae6f3a64b7c81cf049ebb80a2",
          "grade": false,
          "grade_id": "cell-6b462acd2d7d2b79",
          "locked": true,
          "schema_version": 1,
          "solution": false
        },
        "id": "TMXIDWS9Qp4U"
      },
      "source": [
        "To begin we are going to build a tile coding class for our Sarsa agent that will make it easier to make calls to our tile coder."
      ]
    },
    {
      "cell_type": "markdown",
      "metadata": {
        "deletable": false,
        "editable": false,
        "nbgrader": {
          "checksum": "3ead2ccf72a2be17e6781d5b76e84219",
          "grade": false,
          "grade_id": "cell-85d6085e6342eb1c",
          "locked": true,
          "schema_version": 1,
          "solution": false
        },
        "id": "EX144ejwQp4U"
      },
      "source": [
        "### Tile Coding Function"
      ]
    },
    {
      "cell_type": "markdown",
      "metadata": {
        "deletable": false,
        "editable": false,
        "nbgrader": {
          "checksum": "50b0abf997f87549fd27944b04e5b57c",
          "grade": false,
          "grade_id": "cell-2067725dbeb55d8b",
          "locked": true,
          "schema_version": 1,
          "solution": false
        },
        "id": "zHSVUjtdQp4V"
      },
      "source": [
        "Tile coding is introduced in [Section 9.5.4 of the textbook](http://www.incompleteideas.net/book/RLbook2018.pdf#page=239) of the textbook as a way to create features that can both provide good generalization and discrimination. It consists of multiple overlapping tilings, where each tiling is a partitioning of the space into tiles.\n",
        "![Tile Coding](tilecoding.png \"Tile Coding\")"
      ]
    },
    {
      "cell_type": "markdown",
      "metadata": {
        "deletable": false,
        "editable": false,
        "nbgrader": {
          "checksum": "810ec33572588560507256351c37be9d",
          "grade": false,
          "grade_id": "cell-7fc517d0f2a4618e",
          "locked": true,
          "schema_version": 1,
          "solution": false
        },
        "id": "bpq8LyDmQp4V"
      },
      "source": [
        "To help keep our agent code clean we are going to make a function specific for tile coding for our Mountain Car environment. To help we are going to use the Tiles3 library. This is a Python 3 implementation of the tile coder. To start take a look at the documentation: [Tiles3 documentation](http://incompleteideas.net/tiles/tiles3.html)\n",
        "To get the tile coder working we need to implement a few pieces:\n",
        "- First: create an index hash table - this is done for you in the init function using tc.IHT.\n",
        "- Second is to scale the inputs for the tile coder based on the number of tiles and the range of values each input could take. The tile coder needs to take in a number in range [0, 1], or scaled to be [0, 1] * num_tiles. For more on this refer to the [Tiles3 documentation](http://incompleteideas.net/tiles/tiles3.html).\n",
        "- Finally we call tc.tiles to get the active tiles back."
      ]
    },
    {
      "cell_type": "code",
      "metadata": {
        "deletable": false,
        "nbgrader": {
          "checksum": "960c0a3aaa33badde927b45c7a4ebb96",
          "grade": false,
          "grade_id": "cell-12821f87b5c813b2",
          "locked": false,
          "schema_version": 1,
          "solution": true
        },
        "id": "hxY4QZe8Qp4W"
      },
      "source": [
        "# Tile Coding Function [Graded]\n",
        "class MountainCarTileCoder:\n",
        "    def __init__(self, iht_size=4096, num_tilings=8, num_tiles=8):\n",
        "        \"\"\"\n",
        "        Initializes the MountainCar Tile Coder\n",
        "        Initializers:\n",
        "        iht_size -- int, the size of the index hash table, typically a power of 2\n",
        "        num_tilings -- int, the number of tilings\n",
        "        num_tiles -- int, the number of tiles. Here both the width and height of the\n",
        "                     tile coder are the same\n",
        "        Class Variables:\n",
        "        self.iht -- tc.IHT, the index hash table that the tile coder will use\n",
        "        self.num_tilings -- int, the number of tilings the tile coder will use\n",
        "        self.num_tiles -- int, the number of tiles the tile coder will use\n",
        "        \"\"\"\n",
        "        self.iht = tc.IHT(iht_size)\n",
        "        self.num_tilings = num_tilings\n",
        "        self.num_tiles = num_tiles\n",
        "    \n",
        "    def get_tiles(self, position, velocity):\n",
        "        \"\"\"\n",
        "        Takes in a position and velocity from the mountaincar environment\n",
        "        and returns a numpy array of active tiles.\n",
        "        \n",
        "        Arguments:\n",
        "        position -- float, the position of the agent between -1.2 and 0.5\n",
        "        velocity -- float, the velocity of the agent between -0.07 and 0.07\n",
        "        returns:\n",
        "        tiles - np.array, active tiles\n",
        "        \"\"\"\n",
        "        # Set the max and min of position and velocity to scale the input\n",
        "        # POSITION_MIN\n",
        "        # POSITION_MAX\n",
        "        # VELOCITY_MIN\n",
        "        # VELOCITY_MAX\n",
        "        ### START CODE HERE ###\n",
        "        POSITION_MIN=-1.2\n",
        "        POSITION_MAX=0.5\n",
        "        VELOCITY_MIN=-0.07\n",
        "        VELOCITY_MAX=0.07\n",
        "        ### END CODE HERE ###\n",
        "        \n",
        "        # Use the ranges above and self.num_tiles to set position_scale and velocity_scale\n",
        "        # position_scale = number of tiles / position range\n",
        "        # velocity_scale = number of tiles / velocity range\n",
        "        \n",
        "        # Scale position and velocity by multiplying the inputs of each by their scale\n",
        "        \n",
        "        ### START CODE HERE ###\n",
        "        position_scale = self.num_tiles / (POSITION_MAX-POSITION_MIN)\n",
        "        velocity_scale = self.num_tiles / (VELOCITY_MAX-VELOCITY_MIN)\n",
        "        ### END CODE HERE ###\n",
        "        \n",
        "        # get the tiles using tc.tiles, with self.iht, self.num_tilings and [scaled position, scaled velocity]\n",
        "        # nothing to implment here\n",
        "        tiles = tc.tiles(self.iht, self.num_tilings, [position * position_scale, \n",
        "                                                      velocity * velocity_scale])\n",
        "        \n",
        "        return np.array(tiles)"
      ],
      "execution_count": 3,
      "outputs": []
    },
    {
      "cell_type": "code",
      "metadata": {
        "deletable": false,
        "editable": false,
        "nbgrader": {
          "checksum": "2f9114c9e8fe820a8d131b87e4c589a6",
          "grade": false,
          "grade_id": "cell-2c8b58b5dc63cc52",
          "locked": true,
          "schema_version": 1,
          "solution": false
        },
        "id": "uSqtR4apQp4Y",
        "outputId": "3fe25766-03e7-4b46-df8c-b6f52f330087",
        "colab": {
          "base_uri": "https://localhost:8080/"
        }
      },
      "source": [
        "# [DO NOT CHANGE]\n",
        "tests = [[-1.0, 0.01], [0.1, -0.01], [0.2, -0.05], [-1.0, 0.011], [0.2, -0.05]]\n",
        "\n",
        "mctc = MountainCarTileCoder(iht_size=1024, num_tilings=8, num_tiles=8)\n",
        "\n",
        "t = []\n",
        "for test in tests:\n",
        "    position, velocity = test\n",
        "    tiles = mctc.get_tiles(position=position, velocity=velocity)\n",
        "    t.append(tiles)\n",
        "\n",
        "print(\"Your results:\")\n",
        "for tiles in t:\n",
        "    print(tiles)\n",
        "\n",
        "print()\n",
        "print(\"Expected results:\")\n",
        "expected = \"\"\"[0 1 2 3 4 5 6 7]\n",
        "[ 8  9 10 11 12 13 14 15]\n",
        "[16 17 18 19 20 21 22 23]\n",
        "[ 0 24  2  3  4  5  6  7]\n",
        "[16 17 18 19 20 21 22 23]\n",
        "\"\"\"\n",
        "print(expected)\n",
        "\n",
        "np.random.seed(1)\n",
        "mctc_test = MountainCarTileCoder(iht_size=1024, num_tilings=8, num_tiles=8)\n",
        "test = [mctc_test.get_tiles(np.random.uniform(-1.2, 0.5), np.random.uniform(-0.07, 0.07)) for _ in range(10)]\n",
        "np.save(\"tiles_test\", test)"
      ],
      "execution_count": 4,
      "outputs": [
        {
          "output_type": "stream",
          "text": [
            "Your results:\n",
            "[0 1 2 3 4 5 6 7]\n",
            "[ 8  9 10 11 12 13 14 15]\n",
            "[16 17 18 19 20 21 22 23]\n",
            "[ 0 24  2  3  4  5  6  7]\n",
            "[16 17 18 19 20 21 22 23]\n",
            "\n",
            "Expected results:\n",
            "[0 1 2 3 4 5 6 7]\n",
            "[ 8  9 10 11 12 13 14 15]\n",
            "[16 17 18 19 20 21 22 23]\n",
            "[ 0 24  2  3  4  5  6  7]\n",
            "[16 17 18 19 20 21 22 23]\n",
            "\n"
          ],
          "name": "stdout"
        }
      ]
    },
    {
      "cell_type": "markdown",
      "metadata": {
        "deletable": false,
        "editable": false,
        "nbgrader": {
          "checksum": "fdaa393fe01b7bebe2ff44aeabc1a233",
          "grade": false,
          "grade_id": "cell-b647e597fb7ee2e4",
          "locked": true,
          "schema_version": 1,
          "solution": false
        },
        "id": "rMfWmBgEQp4Y"
      },
      "source": [
        "## Section 1: Sarsa Agent"
      ]
    },
    {
      "cell_type": "markdown",
      "metadata": {
        "deletable": false,
        "editable": false,
        "nbgrader": {
          "checksum": "d8b0c1c1cab5bd89cc9479e3faad7539",
          "grade": false,
          "grade_id": "cell-bc36b07292c6751a",
          "locked": true,
          "schema_version": 1,
          "solution": false
        },
        "id": "MWiaBvdUQp4Z"
      },
      "source": [
        "We are now going to use the functions that we just created to implement the Sarsa algorithm. Recall from class that Sarsa stands for State, Action, Reward, State, Action.\n",
        "\n",
        "For this case we have given you an argmax function similar to what you wrote back in Course 1 Assignment 1. Recall, this is different than the argmax function that is used by numpy, which returns the first index of a maximum value. We want our argmax function to arbitrarily break ties, which is what the imported argmax function does. The given argmax function takes in an array of values and returns an int of the chosen action: \n",
        "argmax(action values)\n",
        "\n",
        "There are multiple ways that we can deal with actions for the tile coder. Here we are going to use one simple method - make the size of the weight vector equal to (iht_size, num_actions). This will give us one weight vector for each action and one weight for each tile.\n",
        "\n",
        "Use the above function to help fill in select_action, agent_start, agent_step, and agent_end.\n",
        "\n",
        "Hints:\n",
        "\n",
        "1) The tile coder returns a list of active indexes (e.g. [1, 12, 22]). You can index a numpy array using an array of values - this will return an array of the values at each of those indices. So in order to get the value of a state we can index our weight vector using the action and the array of tiles that the tile coder returns:\n",
        "\n",
        "```self.w[action][active_tiles]```\n",
        "\n",
        "This will give us an array of values, one for each active tile, and we sum the result to get the value of that state-action pair.\n",
        "\n",
        "2) In the case of a binary feature vector (such as the tile coder), the derivative is 1 at each of the active tiles, and zero otherwise."
      ]
    },
    {
      "cell_type": "code",
      "metadata": {
        "deletable": false,
        "nbgrader": {
          "checksum": "c899864c5d5422ec74315ab7ec2ae092",
          "grade": false,
          "grade_id": "cell-f01df3aacf5a9d4b",
          "locked": false,
          "schema_version": 1,
          "solution": true
        },
        "id": "npe6k-l7Qp4Z"
      },
      "source": [
        "# SARSA\n",
        "class SarsaAgent(BaseAgent):\n",
        "    \"\"\"\n",
        "    Initialization of Sarsa Agent. All values are set to None so they can\n",
        "    be initialized in the agent_init method.\n",
        "    \"\"\"\n",
        "    def __init__(self):\n",
        "        self.last_action = None\n",
        "        self.last_state = None\n",
        "        self.epsilon = None\n",
        "        self.gamma = None\n",
        "        self.iht_size = None\n",
        "        self.w = None\n",
        "        self.alpha = None\n",
        "        self.num_tilings = None\n",
        "        self.num_tiles = None\n",
        "        self.mctc = None\n",
        "        self.initial_weights = None\n",
        "        self.num_actions = None\n",
        "        self.previous_tiles = None\n",
        "\n",
        "    def agent_init(self, agent_info={}):\n",
        "        \"\"\"Setup for the agent called when the experiment first starts.\"\"\"\n",
        "        self.num_tilings = agent_info.get(\"num_tilings\", 8)\n",
        "        self.num_tiles = agent_info.get(\"num_tiles\", 8)\n",
        "        self.iht_size = agent_info.get(\"iht_size\", 4096)\n",
        "        self.epsilon = agent_info.get(\"epsilon\", 0.0)\n",
        "        self.gamma = agent_info.get(\"gamma\", 1.0)\n",
        "        self.alpha = agent_info.get(\"alpha\", 0.5) / self.num_tilings\n",
        "        self.initial_weights = agent_info.get(\"initial_weights\", 0.0)\n",
        "        self.num_actions = agent_info.get(\"num_actions\", 3)\n",
        "        \n",
        "        # We initialize self.w to three times the iht_size. Recall this is because\n",
        "        # we need to have one set of weights for each action.\n",
        "        self.w = np.ones((self.num_actions, self.iht_size)) * self.initial_weights\n",
        "        \n",
        "        # We initialize self.mctc to the mountaincar verions of the \n",
        "        # tile coder that we created\n",
        "        self.tc = MountainCarTileCoder(iht_size=self.iht_size, \n",
        "                                         num_tilings=self.num_tilings, \n",
        "                                         num_tiles=self.num_tiles)\n",
        "\n",
        "    def select_action(self, tiles):\n",
        "        \"\"\"\n",
        "        Selects an action using epsilon greedy\n",
        "        Args:\n",
        "        tiles - np.array, an array of active tiles\n",
        "        Returns:\n",
        "        (chosen_action, action_value) - (int, float), tuple of the chosen action\n",
        "                                        and it's value\n",
        "        \"\"\"\n",
        "        action_values = []\n",
        "        chosen_action = None\n",
        "        \n",
        "        # First loop through the weights of each action and populate action_values\n",
        "        # with the action value for each action and tiles instance\n",
        "        \n",
        "        # Use np.random.random to decide if an exploritory action should be taken\n",
        "        # and set chosen_action to a random action if it is\n",
        "        # Otherwise choose the greedy action using the given argmax \n",
        "        # function and the action values (don't use numpy's argmax)\n",
        "        \n",
        "        ### START CODE HERE ###\n",
        "        action_values = np.zeros(self.num_actions)\n",
        "        for i in range(self.num_actions):\n",
        "          action_values[i]=self.w[i][tiles].sum()\n",
        "        eps=np.random.random()\n",
        "        if eps< self.epsilon:\n",
        "          chosen_action=np.random.choice(self.num_actions,1)\n",
        "        else:\n",
        "          chosen_action=argmax(action_values)    \n",
        "        ### END CODE HERE ###\n",
        "        \n",
        "        return chosen_action, action_values[chosen_action]\n",
        "    \n",
        "    def agent_start(self, state):\n",
        "        \"\"\"The first method called when the experiment starts, called after\n",
        "        the environment starts.\n",
        "        Args:\n",
        "            state (Numpy array): the state observation from the\n",
        "                environment's evn_start function.\n",
        "        Returns:\n",
        "            The first action the agent takes.\n",
        "        \"\"\"\n",
        "        position, velocity = state\n",
        "        \n",
        "        # Use self.tc to set active_tiles using position and velocity\n",
        "        # set current_action to the epsilon greedy chosen action using\n",
        "        # the select_action function above with the active tiles\n",
        "        \n",
        "        ### START CODE HERE ###\n",
        "        active_tiles=self.tc.get_tiles(position,velocity)\n",
        "        current_action,action_value=self.select_action(active_tiles)\n",
        "\n",
        "        ### END CODE HERE ###\n",
        "        \n",
        "        self.last_action = current_action\n",
        "        self.previous_tiles = np.copy(active_tiles)\n",
        "        return self.last_action\n",
        "\n",
        "    def agent_step(self, reward, state):\n",
        "        \"\"\"A step taken by the agent.\n",
        "        Args:\n",
        "            reward (float): the reward received for taking the last action taken\n",
        "            state (Numpy array): the state observation from the\n",
        "                environment's step based, where the agent ended up after the\n",
        "                last step\n",
        "        Returns:\n",
        "            The action the agent is taking.\n",
        "        \"\"\"\n",
        "        # choose the action here\n",
        "        position, velocity = state\n",
        "        \n",
        "        # Use self.tc to set active_tiles using position and velocity\n",
        "        # set current_action and action_value to the epsilon greedy chosen action using\n",
        "        # the select_action function above with the active tiles\n",
        "        \n",
        "        # Update self.w at self.previous_tiles and self.last_action\n",
        "        # using the reward, action_value, self.gamma, self.w,\n",
        "        # self.alpha, and the Sarsa update from the textbook\n",
        "        \n",
        "        ### START CODE HERE ###\n",
        "        active_tiles = self.tc.get_tiles(position, velocity)\n",
        "        current_action, action_value = self.select_action(active_tiles)\n",
        "        last_action_value = self.w[self.last_action][self.previous_tiles].sum()\n",
        "        delta = reward + self.gamma * action_value - last_action_value\n",
        "        grad = np.zeros_like(self.w)\n",
        "        grad[self.last_action][self.previous_tiles] = 1\n",
        "        self.w += self.alpha * delta * grad\n",
        "        ### END CODE HERE ###\n",
        "        \n",
        "        self.last_action = current_action\n",
        "        self.previous_tiles = np.copy(active_tiles)\n",
        "        return self.last_action\n",
        "\n",
        "    def agent_end(self, reward):\n",
        "        \"\"\"Run when the agent terminates.\n",
        "        Args:\n",
        "            reward (float): the reward the agent received for entering the\n",
        "                terminal state.\n",
        "        \"\"\"\n",
        "        # Update self.w at self.previous_tiles and self.previous action\n",
        "        # using the reward, self.gamma, self.w,\n",
        "        # self.alpha, and the Sarsa update from the textbook\n",
        "        # Hint - there is no action_value used here because this is the end\n",
        "        # of the episode.\n",
        "        \n",
        "        ### START CODE HERE ###\n",
        "        last_action_value = self.w[self.last_action][self.previous_tiles].sum()\n",
        "        delta = reward - last_action_value\n",
        "        grad = np.zeros_like(self.w)\n",
        "        grad[self.last_action][self.previous_tiles] = 1\n",
        "        self.w += self.alpha * delta * grad\n",
        "        ### END CODE HERE ###\n",
        "        \n",
        "    def agent_cleanup(self):\n",
        "        \"\"\"Cleanup done after the agent ends.\"\"\"\n",
        "        pass\n",
        "\n",
        "    def agent_message(self, message):\n",
        "        \"\"\"A function used to pass information from the agent to the experiment.\n",
        "        Args:\n",
        "            message: The message passed to the agent.\n",
        "        Returns:\n",
        "            The response (or answer) to the message.\n",
        "        \"\"\"\n",
        "        pass"
      ],
      "execution_count": 17,
      "outputs": []
    },
    {
      "cell_type": "code",
      "metadata": {
        "deletable": false,
        "editable": false,
        "nbgrader": {
          "checksum": "cd2e581d58b48f8be57ecd190b2b6e6a",
          "grade": false,
          "grade_id": "cell-4363d332fa1b0f96",
          "locked": true,
          "schema_version": 1,
          "solution": false
        },
        "id": "VyzV81bHQp4a",
        "outputId": "f480f70c-80a6-42c6-cad3-01a7261607e2",
        "colab": {
          "base_uri": "https://localhost:8080/"
        }
      },
      "source": [
        "# Test Epsilon Greedy Function [DO NOT CHANGE]\n",
        "agent = SarsaAgent()\n",
        "agent.agent_init({\"epsilon\": 0.1})\n",
        "agent.w = np.array([np.array([1, 2, 3]), np.array([4, 5, 6]), np.array([7, 8, 9])])\n",
        "\n",
        "total = 0\n",
        "for i in range(1000):\n",
        "    chosen_action, action_value = agent.select_action(np.array([0,1]))\n",
        "    total += action_value\n",
        "print(total)\n",
        "assert total < 15000, \"Check that you are not always choosing the best action\"\n",
        "\n",
        "np.save(\"epsilon_test\", total)\n",
        "\n",
        "agent = SarsaAgent()\n",
        "agent.agent_init({\"epsilon\": 0.0})\n",
        "agent.w = np.array([np.array([1, 2, 3]), np.array([4, 5, 6]), np.array([7, 8, 9])])\n",
        "\n",
        "chosen_action, action_value = agent.select_action(np.array([0,1]))\n",
        "print(\"Expected value\")\n",
        "print(\"(2, 15)\")\n",
        "\n",
        "print(\"Your value\")\n",
        "print((chosen_action, action_value))\n",
        "\n",
        "np.save(\"egreedy_test\", (chosen_action, action_value))"
      ],
      "execution_count": 11,
      "outputs": [
        {
          "output_type": "stream",
          "text": [
            "[14460.]\n",
            "Expected value\n",
            "(2, 15)\n",
            "Your value\n",
            "(2, 15.0)\n"
          ],
          "name": "stdout"
        }
      ]
    },
    {
      "cell_type": "code",
      "metadata": {
        "deletable": false,
        "editable": false,
        "nbgrader": {
          "checksum": "8082fe078300cb738d2dd10f590a3535",
          "grade": false,
          "grade_id": "cell-aa40398d933320db",
          "locked": true,
          "schema_version": 1,
          "solution": false
        },
        "id": "TbsBGb_lQp4b",
        "outputId": "8d6e9747-ca35-4c7d-9cb5-f3919592743d",
        "colab": {
          "base_uri": "https://localhost:8080/",
          "height": 317
        }
      },
      "source": [
        "# Test Sarsa Agent [DO NOT CHANGE]\n",
        "num_runs = 10\n",
        "num_episodes = 50\n",
        "env_info = {\"num_tiles\": 8, \"num_tilings\": 8}\n",
        "agent_info = {}\n",
        "all_steps = []\n",
        "\n",
        "agent = SarsaAgent\n",
        "env = mountaincar_env.Environment\n",
        "start = time.time()\n",
        "\n",
        "for run in range(num_runs):\n",
        "    if run % 5 == 0:\n",
        "        print(\"RUN: {}\".format(run))\n",
        "\n",
        "    rl_glue = RLGlue(env, agent)\n",
        "    rl_glue.rl_init(agent_info, env_info)\n",
        "    steps_per_episode = []\n",
        "\n",
        "    for episode in range(num_episodes):\n",
        "        rl_glue.rl_episode(15000)\n",
        "        steps_per_episode.append(rl_glue.num_steps)\n",
        "\n",
        "    all_steps.append(np.array(steps_per_episode))\n",
        "\n",
        "print(\"Run time: {}\".format(time.time() - start))\n",
        "\n",
        "plt.plot(np.mean(np.array(all_steps), axis=0))\n",
        "np.save(\"sarsa_test\", np.array(all_steps))"
      ],
      "execution_count": 18,
      "outputs": [
        {
          "output_type": "stream",
          "text": [
            "RUN: 0\n",
            "RUN: 5\n",
            "Run time: 16.239261865615845\n"
          ],
          "name": "stdout"
        },
        {
          "output_type": "display_data",
          "data": {
            "image/png": "[encoded data removed]",
            "text/plain": [
              "<Figure size 432x288 with 1 Axes>"
            ]
          },
          "metadata": {
            "tags": [],
            "needs_background": "light"
          }
        }
      ]
    },
    {
      "cell_type": "markdown",
      "metadata": {
        "deletable": false,
        "editable": false,
        "nbgrader": {
          "checksum": "76a454920dcb6dd3d10d811a2f4dfa21",
          "grade": false,
          "grade_id": "cell-25c387a04d2d325f",
          "locked": true,
          "schema_version": 1,
          "solution": false
        },
        "id": "aE8w2llOQp4b"
      },
      "source": [
        "The learning rate of your agent should look similar to ours, though it will not look exactly the same.If there are some spikey points that is okay. Due to stochasticity,  a few episodes may have taken much longer, causing some spikes in the plot. The trend of the line should be similar, though, generally decreasing to about 200 steps per run.\n",
        "![alt text](sarsa_agent_initial.png \"Logo Title Text 1\")"
      ]
    },
    {
      "cell_type": "markdown",
      "metadata": {
        "deletable": false,
        "editable": false,
        "nbgrader": {
          "checksum": "59a8c32add9b94d547093defbc0958cf",
          "grade": false,
          "grade_id": "cell-b8423d7852d12941",
          "locked": true,
          "schema_version": 1,
          "solution": false
        },
        "id": "IJPtHhGrQp4b"
      },
      "source": [
        "This result was using 8 tilings with 8x8 tiles on each. Let's see if we can do better, and what different tilings look like. We will also text 2 tilings of 16x16 and 4 tilings of 32x32. These three choices produce the same number of features (512), but distributed quite differently. "
      ]
    },
    {
      "cell_type": "code",
      "metadata": {
        "deletable": false,
        "editable": false,
        "nbgrader": {
          "checksum": "da19e771d808db89cb738f0c84fcecca",
          "grade": false,
          "grade_id": "cell-779d7aea26f74686",
          "locked": true,
          "schema_version": 1,
          "solution": false
        },
        "id": "FYDVuBBlQp4c",
        "outputId": "235e744d-873d-40a9-b8d1-96b24b7a0b1e",
        "colab": {
          "base_uri": "https://localhost:8080/",
          "height": 1000
        }
      },
      "source": [
        "# Compare the three\n",
        "num_runs = 20\n",
        "num_episodes = 100\n",
        "env_info = {}\n",
        "\n",
        "agent_runs = []\n",
        "# alphas = [0.2, 0.4, 0.5, 1.0]\n",
        "alphas = [0.5]\n",
        "agent_info_options = [{\"num_tiles\": 16, \"num_tilings\": 2, \"alpha\": 0.5},\n",
        "                      {\"num_tiles\": 4, \"num_tilings\": 32, \"alpha\": 0.5},\n",
        "                      {\"num_tiles\": 8, \"num_tilings\": 8, \"alpha\": 0.5}]\n",
        "agent_info_options = [{\"num_tiles\" : agent[\"num_tiles\"], \n",
        "                       \"num_tilings\": agent[\"num_tilings\"],\n",
        "                       \"alpha\" : alpha} for agent in agent_info_options for alpha in alphas]\n",
        "\n",
        "agent = SarsaAgent\n",
        "env = mountaincar_env.Environment\n",
        "for agent_info in agent_info_options:\n",
        "    all_steps = []\n",
        "    start = time.time()\n",
        "    for run in range(num_runs):\n",
        "        if run % 5 == 0:\n",
        "            print(\"RUN: {}\".format(run))\n",
        "        env = mountaincar_env.Environment\n",
        "        \n",
        "        rl_glue = RLGlue(env, agent)\n",
        "        rl_glue.rl_init(agent_info, env_info)\n",
        "        steps_per_episode = []\n",
        "\n",
        "        for episode in range(num_episodes):\n",
        "            rl_glue.rl_episode(15000)\n",
        "            steps_per_episode.append(rl_glue.num_steps)\n",
        "        all_steps.append(np.array(steps_per_episode))\n",
        "    \n",
        "    agent_runs.append(np.mean(np.array(all_steps), axis=0))\n",
        "    print(rl_glue.agent.alpha)\n",
        "    print(\"Run Time: {}\".format(time.time() - start))\n",
        "\n",
        "plt.figure(figsize=(15, 10), dpi= 80, facecolor='w', edgecolor='k')\n",
        "plt.plot(np.array(agent_runs).T)\n",
        "plt.xlabel(\"Episode\")\n",
        "plt.ylabel(\"Steps Per Episode\")\n",
        "plt.yscale(\"linear\")\n",
        "plt.ylim(0, 1000)\n",
        "plt.legend([\"num_tiles: {}, num_tilings: {}, alpha: {}\".format(agent_info[\"num_tiles\"], \n",
        "                                                               agent_info[\"num_tilings\"],\n",
        "                                                               agent_info[\"alpha\"])\n",
        "            for agent_info in agent_info_options])"
      ],
      "execution_count": 19,
      "outputs": [
        {
          "output_type": "stream",
          "text": [
            "RUN: 0\n",
            "RUN: 5\n",
            "RUN: 10\n",
            "RUN: 15\n",
            "0.25\n",
            "Run Time: 89.99373936653137\n",
            "RUN: 0\n",
            "RUN: 5\n",
            "RUN: 10\n",
            "RUN: 15\n",
            "0.015625\n",
            "Run Time: 50.29492139816284\n",
            "RUN: 0\n",
            "RUN: 5\n",
            "RUN: 10\n",
            "RUN: 15\n",
            "0.0625\n",
            "Run Time: 51.000938177108765\n"
          ],
          "name": "stdout"
        },
        {
          "output_type": "execute_result",
          "data": {
            "text/plain": [
              "<matplotlib.legend.Legend at 0x7fb9e7974b10>"
            ]
          },
          "metadata": {
            "tags": []
          },
          "execution_count": 19
        },
        {
          "output_type": "display_data",
          "data": {
            "image/png": "[encoded data removed]",
            "text/plain": [
              "<Figure size 1200x800 with 1 Axes>"
            ]
          },
          "metadata": {
            "tags": []
          }
        }
      ]
    },
    {
      "cell_type": "markdown",
      "metadata": {
        "deletable": false,
        "editable": false,
        "nbgrader": {
          "checksum": "6038f4c142bec2a4e78e32ddf9c249de",
          "grade": false,
          "grade_id": "cell-b7e2f943ac40b395",
          "locked": true,
          "schema_version": 1,
          "solution": false
        },
        "id": "ki1O95lGQp4c"
      },
      "source": [
        "Here we can see that using 32 tilings and 4 x 4 tiles does a little better than 8 tilings with 8x8 tiles. Both seem to do much better than using 2 tilings, with 16 x 16 tiles."
      ]
    },
    {
      "cell_type": "markdown",
      "metadata": {
        "deletable": false,
        "editable": false,
        "nbgrader": {
          "checksum": "63a8d309f64550844d8d8669796da9e6",
          "grade": false,
          "grade_id": "cell-279952a048a11f2a",
          "locked": true,
          "schema_version": 1,
          "solution": false
        },
        "id": "mKorS2roQp4c"
      },
      "source": [
        "## Section 3: Conclusion"
      ]
    },
    {
      "cell_type": "markdown",
      "metadata": {
        "deletable": false,
        "editable": false,
        "nbgrader": {
          "checksum": "d2f0a01598313c64677f7ea426cad9cc",
          "grade": false,
          "grade_id": "cell-a2e2660173b7334f",
          "locked": true,
          "schema_version": 1,
          "solution": false
        },
        "id": "9hbs7OUpQp4d"
      },
      "source": [
        "Congratulations! You have learned how to implement a control agent using function approximation. In this notebook you learned how to:\n",
        "\n",
        "- Use function approximation in the control setting\n",
        "- Implement the Sarsa algorithm using tile coding\n",
        "- Compare three settings for tile coding to see their effect on our agent"
      ]
    }
  ]
}